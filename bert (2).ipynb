{
  "cells": [
    {
      "cell_type": "code",
      "execution_count": null,
      "metadata": {
        "colab": {
          "base_uri": "https://localhost:8080/"
        },
        "id": "kcKYBTFPrz2v",
        "outputId": "50d9a1cd-0f11-465d-a15a-175dc9045459"
      },
      "outputs": [
        {
          "output_type": "stream",
          "name": "stderr",
          "text": [
            "[nltk_data] Downloading package stopwords to /root/nltk_data...\n",
            "[nltk_data]   Package stopwords is already up-to-date!\n",
            "[nltk_data] Downloading package wordnet to /root/nltk_data...\n",
            "[nltk_data]   Package wordnet is already up-to-date!\n",
            "[nltk_data] Downloading package punkt to /root/nltk_data...\n",
            "[nltk_data]   Package punkt is already up-to-date!\n"
          ]
        }
      ],
      "source": [
        "import re\n",
        "import nltk\n",
        "import numpy as np\n",
        "import pandas as pd\n",
        "import seaborn as sns\n",
        "import matplotlib.pyplot as plt\n",
        "from nltk.corpus import stopwords\n",
        "nltk.download('stopwords')\n",
        "from nltk.stem import PorterStemmer\n",
        "from nltk.stem import WordNetLemmatizer\n",
        "nltk.download('wordnet')\n",
        "from nltk.tokenize import word_tokenize\n",
        "from nltk.tokenize import sent_tokenize\n",
        "nltk.download('punkt')\n",
        "from wordcloud import WordCloud\n",
        "from sklearn.model_selection import train_test_split\n",
        "from sklearn.feature_extraction.text import CountVectorizer\n",
        "from sklearn.feature_extraction.text import TfidfVectorizer\n",
        "from sklearn.metrics import accuracy_score\n",
        "from sklearn.metrics import confusion_matrix\n",
        "from sklearn.metrics import classification_report\n",
        "from sklearn.metrics import make_scorer, roc_curve, roc_auc_score\n",
        "from sklearn.metrics import precision_recall_fscore_support as score\n",
        "from sklearn.metrics.pairwise import cosine_similarity\n",
        "from sklearn.multiclass import OneVsRestClassifier\n",
        "from sklearn.linear_model import LogisticRegression\n",
        "from sklearn.svm import SVC, LinearSVC\n",
        "from sklearn.tree import DecisionTreeClassifier\n",
        "from sklearn.ensemble import RandomForestClassifier\n",
        "from sklearn.neighbors import KNeighborsClassifier\n",
        "from sklearn.naive_bayes import GaussianNB,MultinomialNB,BernoulliNB\n",
        "import tensorflow as tf\n",
        "from transformers import TFBertForSequenceClassification, BertTokenizer\n",
        "import os\n",
        "from string import punctuation\n",
        "from typing import Tuple, Union, List"
      ]
    },
    {
      "cell_type": "code",
      "execution_count": null,
      "metadata": {
        "id": "-Mt3a4kOr1yT"
      },
      "outputs": [],
      "source": [
        "dataset = pd.read_excel(\"/content/Haber_Etiketli.xlsx\")"
      ]
    },
    {
      "cell_type": "code",
      "execution_count": null,
      "metadata": {
        "colab": {
          "base_uri": "https://localhost:8080/"
        },
        "id": "mbaM2Dd3sFLF",
        "outputId": "77190468-4eac-4c55-a7a6-af186ee8d1a6"
      },
      "outputs": [
        {
          "output_type": "execute_result",
          "data": {
            "text/plain": [
              "(14369, 4)"
            ]
          },
          "metadata": {},
          "execution_count": 3
        }
      ],
      "source": [
        "dataset.shape"
      ]
    },
    {
      "cell_type": "markdown",
      "metadata": {
        "id": "xdYG526_IhC1"
      },
      "source": [
        "#CountValues of Categories"
      ]
    },
    {
      "cell_type": "code",
      "execution_count": null,
      "metadata": {
        "colab": {
          "base_uri": "https://localhost:8080/",
          "height": 303
        },
        "id": "GH9jSbtB6fqv",
        "outputId": "dce1b31a-cb59-476e-c48a-95fda875380c"
      },
      "outputs": [
        {
          "output_type": "execute_result",
          "data": {
            "text/plain": [
              "Label\n",
              "negatif     4701\n",
              "pozitif     3861\n",
              "nötr        3510\n",
              "karışık     2264\n",
              "belirsiz      31\n",
              "hata           2\n",
              "Name: count, dtype: int64"
            ],
            "text/html": [
              "<div>\n",
              "<style scoped>\n",
              "    .dataframe tbody tr th:only-of-type {\n",
              "        vertical-align: middle;\n",
              "    }\n",
              "\n",
              "    .dataframe tbody tr th {\n",
              "        vertical-align: top;\n",
              "    }\n",
              "\n",
              "    .dataframe thead th {\n",
              "        text-align: right;\n",
              "    }\n",
              "</style>\n",
              "<table border=\"1\" class=\"dataframe\">\n",
              "  <thead>\n",
              "    <tr style=\"text-align: right;\">\n",
              "      <th></th>\n",
              "      <th>count</th>\n",
              "    </tr>\n",
              "    <tr>\n",
              "      <th>Label</th>\n",
              "      <th></th>\n",
              "    </tr>\n",
              "  </thead>\n",
              "  <tbody>\n",
              "    <tr>\n",
              "      <th>negatif</th>\n",
              "      <td>4701</td>\n",
              "    </tr>\n",
              "    <tr>\n",
              "      <th>pozitif</th>\n",
              "      <td>3861</td>\n",
              "    </tr>\n",
              "    <tr>\n",
              "      <th>nötr</th>\n",
              "      <td>3510</td>\n",
              "    </tr>\n",
              "    <tr>\n",
              "      <th>karışık</th>\n",
              "      <td>2264</td>\n",
              "    </tr>\n",
              "    <tr>\n",
              "      <th>belirsiz</th>\n",
              "      <td>31</td>\n",
              "    </tr>\n",
              "    <tr>\n",
              "      <th>hata</th>\n",
              "      <td>2</td>\n",
              "    </tr>\n",
              "  </tbody>\n",
              "</table>\n",
              "</div><br><label><b>dtype:</b> int64</label>"
            ]
          },
          "metadata": {},
          "execution_count": 4
        }
      ],
      "source": [
        "dataset['Label'].value_counts()"
      ]
    },
    {
      "cell_type": "code",
      "execution_count": null,
      "metadata": {
        "id": "uNsqDn0iIrRB"
      },
      "outputs": [],
      "source": [
        "dataset1 = dataset[~dataset['Label'].isin(['belirsiz', 'hata'])]"
      ]
    },
    {
      "cell_type": "code",
      "execution_count": null,
      "metadata": {
        "colab": {
          "base_uri": "https://localhost:8080/",
          "height": 241
        },
        "id": "dETj4f7TItVL",
        "outputId": "227ce315-9b19-42c4-f6d8-58cb68984bd6"
      },
      "outputs": [
        {
          "output_type": "execute_result",
          "data": {
            "text/plain": [
              "Label\n",
              "negatif    4701\n",
              "pozitif    3861\n",
              "nötr       3510\n",
              "karışık    2264\n",
              "Name: count, dtype: int64"
            ],
            "text/html": [
              "<div>\n",
              "<style scoped>\n",
              "    .dataframe tbody tr th:only-of-type {\n",
              "        vertical-align: middle;\n",
              "    }\n",
              "\n",
              "    .dataframe tbody tr th {\n",
              "        vertical-align: top;\n",
              "    }\n",
              "\n",
              "    .dataframe thead th {\n",
              "        text-align: right;\n",
              "    }\n",
              "</style>\n",
              "<table border=\"1\" class=\"dataframe\">\n",
              "  <thead>\n",
              "    <tr style=\"text-align: right;\">\n",
              "      <th></th>\n",
              "      <th>count</th>\n",
              "    </tr>\n",
              "    <tr>\n",
              "      <th>Label</th>\n",
              "      <th></th>\n",
              "    </tr>\n",
              "  </thead>\n",
              "  <tbody>\n",
              "    <tr>\n",
              "      <th>negatif</th>\n",
              "      <td>4701</td>\n",
              "    </tr>\n",
              "    <tr>\n",
              "      <th>pozitif</th>\n",
              "      <td>3861</td>\n",
              "    </tr>\n",
              "    <tr>\n",
              "      <th>nötr</th>\n",
              "      <td>3510</td>\n",
              "    </tr>\n",
              "    <tr>\n",
              "      <th>karışık</th>\n",
              "      <td>2264</td>\n",
              "    </tr>\n",
              "  </tbody>\n",
              "</table>\n",
              "</div><br><label><b>dtype:</b> int64</label>"
            ]
          },
          "metadata": {},
          "execution_count": 6
        }
      ],
      "source": [
        "dataset1['Label'].value_counts()"
      ]
    },
    {
      "cell_type": "markdown",
      "metadata": {
        "id": "G0mm6GHkIvk-"
      },
      "source": [
        "##Convert Categories Name into Numerical Index"
      ]
    },
    {
      "cell_type": "code",
      "execution_count": null,
      "metadata": {
        "colab": {
          "base_uri": "https://localhost:8080/"
        },
        "id": "NmPZQKuZIEDq",
        "outputId": "b4ddf928-22ff-4727-bfd0-dda1ee9dbdc1"
      },
      "outputs": [
        {
          "output_type": "stream",
          "name": "stdout",
          "text": [
            "['negatif' 'pozitif' 'karışık' 'nötr']\n"
          ]
        }
      ],
      "source": [
        "target_Label = dataset1['Label'].unique()\n",
        "print(target_Label)"
      ]
    },
    {
      "cell_type": "code",
      "execution_count": null,
      "metadata": {
        "id": "CvPrFoaQIAPf"
      },
      "outputs": [],
      "source": [
        "label_mapping = {\n",
        "    'pozitif': 0,\n",
        "    'negatif': 1,\n",
        "    'nötr': 2,\n",
        "    'karışık': 3\n",
        "}"
      ]
    },
    {
      "cell_type": "code",
      "execution_count": null,
      "metadata": {
        "colab": {
          "base_uri": "https://localhost:8080/"
        },
        "id": "AoIlhz3SI1na",
        "outputId": "c4464232-cf2d-487c-dc80-2d17a3c7109e"
      },
      "outputs": [
        {
          "output_type": "stream",
          "name": "stderr",
          "text": [
            "<ipython-input-9-6642ddbf6a3d>:1: SettingWithCopyWarning: \n",
            "A value is trying to be set on a copy of a slice from a DataFrame.\n",
            "Try using .loc[row_indexer,col_indexer] = value instead\n",
            "\n",
            "See the caveats in the documentation: https://pandas.pydata.org/pandas-docs/stable/user_guide/indexing.html#returning-a-view-versus-a-copy\n",
            "  dataset1['label_id'] = dataset1['Label'].map(label_mapping)\n"
          ]
        }
      ],
      "source": [
        "dataset1['label_id'] = dataset1['Label'].map(label_mapping)"
      ]
    },
    {
      "cell_type": "code",
      "execution_count": null,
      "metadata": {
        "colab": {
          "base_uri": "https://localhost:8080/",
          "height": 206
        },
        "id": "dTMTjtz3I4Qe",
        "outputId": "ad957038-1aee-4a3e-b680-0c298a148dc4"
      },
      "outputs": [
        {
          "output_type": "execute_result",
          "data": {
            "text/plain": [
              "         Label Dosya Adı                                             Başlık  \\\n",
              "14364     nötr   995.txt  Diyanet 400 bin hadis taradı 20 bin hadisi 6 c...   \n",
              "14365  karışık   996.txt            Haczedilen yalı için CHP destek vermedi   \n",
              "14366     nötr   997.txt       Terör propagandasına ayrıntılı tanım geliyor   \n",
              "14367  karışık   998.txt                   28 Şubat kararları iptal edilsin   \n",
              "14368  negatif   999.txt                       Ünal Erkana işkence sorgusu   \n",
              "\n",
              "                                                  İçerik  label_id  \n",
              "14364  Türkiyenin önde gelen 100 hadis uzmanının kat...         2  \n",
              "14365  Türk siyasetinde önemli yeri olan İnönü Ailesi...         3  \n",
              "14366  Terör örgütü üyesi olmayıp da terör örgütü pro...         2  \n",
              "14367  Umut davası kapsamında yargılanan 3 sanık, üye...         3  \n",
              "14368  12 Eylül işkence soruşturması kapsamında dönem...         1  "
            ],
            "text/html": [
              "\n",
              "  <div id=\"df-18903e76-318c-4270-84de-8d5b76708f93\" class=\"colab-df-container\">\n",
              "    <div>\n",
              "<style scoped>\n",
              "    .dataframe tbody tr th:only-of-type {\n",
              "        vertical-align: middle;\n",
              "    }\n",
              "\n",
              "    .dataframe tbody tr th {\n",
              "        vertical-align: top;\n",
              "    }\n",
              "\n",
              "    .dataframe thead th {\n",
              "        text-align: right;\n",
              "    }\n",
              "</style>\n",
              "<table border=\"1\" class=\"dataframe\">\n",
              "  <thead>\n",
              "    <tr style=\"text-align: right;\">\n",
              "      <th></th>\n",
              "      <th>Label</th>\n",
              "      <th>Dosya Adı</th>\n",
              "      <th>Başlık</th>\n",
              "      <th>İçerik</th>\n",
              "      <th>label_id</th>\n",
              "    </tr>\n",
              "  </thead>\n",
              "  <tbody>\n",
              "    <tr>\n",
              "      <th>14364</th>\n",
              "      <td>nötr</td>\n",
              "      <td>995.txt</td>\n",
              "      <td>Diyanet 400 bin hadis taradı 20 bin hadisi 6 c...</td>\n",
              "      <td>Türkiyenin önde gelen 100 hadis uzmanının kat...</td>\n",
              "      <td>2</td>\n",
              "    </tr>\n",
              "    <tr>\n",
              "      <th>14365</th>\n",
              "      <td>karışık</td>\n",
              "      <td>996.txt</td>\n",
              "      <td>Haczedilen yalı için CHP destek vermedi</td>\n",
              "      <td>Türk siyasetinde önemli yeri olan İnönü Ailesi...</td>\n",
              "      <td>3</td>\n",
              "    </tr>\n",
              "    <tr>\n",
              "      <th>14366</th>\n",
              "      <td>nötr</td>\n",
              "      <td>997.txt</td>\n",
              "      <td>Terör propagandasına ayrıntılı tanım geliyor</td>\n",
              "      <td>Terör örgütü üyesi olmayıp da terör örgütü pro...</td>\n",
              "      <td>2</td>\n",
              "    </tr>\n",
              "    <tr>\n",
              "      <th>14367</th>\n",
              "      <td>karışık</td>\n",
              "      <td>998.txt</td>\n",
              "      <td>28 Şubat kararları iptal edilsin</td>\n",
              "      <td>Umut davası kapsamında yargılanan 3 sanık, üye...</td>\n",
              "      <td>3</td>\n",
              "    </tr>\n",
              "    <tr>\n",
              "      <th>14368</th>\n",
              "      <td>negatif</td>\n",
              "      <td>999.txt</td>\n",
              "      <td>Ünal Erkana işkence sorgusu</td>\n",
              "      <td>12 Eylül işkence soruşturması kapsamında dönem...</td>\n",
              "      <td>1</td>\n",
              "    </tr>\n",
              "  </tbody>\n",
              "</table>\n",
              "</div>\n",
              "    <div class=\"colab-df-buttons\">\n",
              "\n",
              "  <div class=\"colab-df-container\">\n",
              "    <button class=\"colab-df-convert\" onclick=\"convertToInteractive('df-18903e76-318c-4270-84de-8d5b76708f93')\"\n",
              "            title=\"Convert this dataframe to an interactive table.\"\n",
              "            style=\"display:none;\">\n",
              "\n",
              "  <svg xmlns=\"http://www.w3.org/2000/svg\" height=\"24px\" viewBox=\"0 -960 960 960\">\n",
              "    <path d=\"M120-120v-720h720v720H120Zm60-500h600v-160H180v160Zm220 220h160v-160H400v160Zm0 220h160v-160H400v160ZM180-400h160v-160H180v160Zm440 0h160v-160H620v160ZM180-180h160v-160H180v160Zm440 0h160v-160H620v160Z\"/>\n",
              "  </svg>\n",
              "    </button>\n",
              "\n",
              "  <style>\n",
              "    .colab-df-container {\n",
              "      display:flex;\n",
              "      gap: 12px;\n",
              "    }\n",
              "\n",
              "    .colab-df-convert {\n",
              "      background-color: #E8F0FE;\n",
              "      border: none;\n",
              "      border-radius: 50%;\n",
              "      cursor: pointer;\n",
              "      display: none;\n",
              "      fill: #1967D2;\n",
              "      height: 32px;\n",
              "      padding: 0 0 0 0;\n",
              "      width: 32px;\n",
              "    }\n",
              "\n",
              "    .colab-df-convert:hover {\n",
              "      background-color: #E2EBFA;\n",
              "      box-shadow: 0px 1px 2px rgba(60, 64, 67, 0.3), 0px 1px 3px 1px rgba(60, 64, 67, 0.15);\n",
              "      fill: #174EA6;\n",
              "    }\n",
              "\n",
              "    .colab-df-buttons div {\n",
              "      margin-bottom: 4px;\n",
              "    }\n",
              "\n",
              "    [theme=dark] .colab-df-convert {\n",
              "      background-color: #3B4455;\n",
              "      fill: #D2E3FC;\n",
              "    }\n",
              "\n",
              "    [theme=dark] .colab-df-convert:hover {\n",
              "      background-color: #434B5C;\n",
              "      box-shadow: 0px 1px 3px 1px rgba(0, 0, 0, 0.15);\n",
              "      filter: drop-shadow(0px 1px 2px rgba(0, 0, 0, 0.3));\n",
              "      fill: #FFFFFF;\n",
              "    }\n",
              "  </style>\n",
              "\n",
              "    <script>\n",
              "      const buttonEl =\n",
              "        document.querySelector('#df-18903e76-318c-4270-84de-8d5b76708f93 button.colab-df-convert');\n",
              "      buttonEl.style.display =\n",
              "        google.colab.kernel.accessAllowed ? 'block' : 'none';\n",
              "\n",
              "      async function convertToInteractive(key) {\n",
              "        const element = document.querySelector('#df-18903e76-318c-4270-84de-8d5b76708f93');\n",
              "        const dataTable =\n",
              "          await google.colab.kernel.invokeFunction('convertToInteractive',\n",
              "                                                    [key], {});\n",
              "        if (!dataTable) return;\n",
              "\n",
              "        const docLinkHtml = 'Like what you see? Visit the ' +\n",
              "          '<a target=\"_blank\" href=https://colab.research.google.com/notebooks/data_table.ipynb>data table notebook</a>'\n",
              "          + ' to learn more about interactive tables.';\n",
              "        element.innerHTML = '';\n",
              "        dataTable['output_type'] = 'display_data';\n",
              "        await google.colab.output.renderOutput(dataTable, element);\n",
              "        const docLink = document.createElement('div');\n",
              "        docLink.innerHTML = docLinkHtml;\n",
              "        element.appendChild(docLink);\n",
              "      }\n",
              "    </script>\n",
              "  </div>\n",
              "\n",
              "\n",
              "<div id=\"df-10e02cb0-f0a4-4950-84bc-a1d21fb68554\">\n",
              "  <button class=\"colab-df-quickchart\" onclick=\"quickchart('df-10e02cb0-f0a4-4950-84bc-a1d21fb68554')\"\n",
              "            title=\"Suggest charts\"\n",
              "            style=\"display:none;\">\n",
              "\n",
              "<svg xmlns=\"http://www.w3.org/2000/svg\" height=\"24px\"viewBox=\"0 0 24 24\"\n",
              "     width=\"24px\">\n",
              "    <g>\n",
              "        <path d=\"M19 3H5c-1.1 0-2 .9-2 2v14c0 1.1.9 2 2 2h14c1.1 0 2-.9 2-2V5c0-1.1-.9-2-2-2zM9 17H7v-7h2v7zm4 0h-2V7h2v10zm4 0h-2v-4h2v4z\"/>\n",
              "    </g>\n",
              "</svg>\n",
              "  </button>\n",
              "\n",
              "<style>\n",
              "  .colab-df-quickchart {\n",
              "      --bg-color: #E8F0FE;\n",
              "      --fill-color: #1967D2;\n",
              "      --hover-bg-color: #E2EBFA;\n",
              "      --hover-fill-color: #174EA6;\n",
              "      --disabled-fill-color: #AAA;\n",
              "      --disabled-bg-color: #DDD;\n",
              "  }\n",
              "\n",
              "  [theme=dark] .colab-df-quickchart {\n",
              "      --bg-color: #3B4455;\n",
              "      --fill-color: #D2E3FC;\n",
              "      --hover-bg-color: #434B5C;\n",
              "      --hover-fill-color: #FFFFFF;\n",
              "      --disabled-bg-color: #3B4455;\n",
              "      --disabled-fill-color: #666;\n",
              "  }\n",
              "\n",
              "  .colab-df-quickchart {\n",
              "    background-color: var(--bg-color);\n",
              "    border: none;\n",
              "    border-radius: 50%;\n",
              "    cursor: pointer;\n",
              "    display: none;\n",
              "    fill: var(--fill-color);\n",
              "    height: 32px;\n",
              "    padding: 0;\n",
              "    width: 32px;\n",
              "  }\n",
              "\n",
              "  .colab-df-quickchart:hover {\n",
              "    background-color: var(--hover-bg-color);\n",
              "    box-shadow: 0 1px 2px rgba(60, 64, 67, 0.3), 0 1px 3px 1px rgba(60, 64, 67, 0.15);\n",
              "    fill: var(--button-hover-fill-color);\n",
              "  }\n",
              "\n",
              "  .colab-df-quickchart-complete:disabled,\n",
              "  .colab-df-quickchart-complete:disabled:hover {\n",
              "    background-color: var(--disabled-bg-color);\n",
              "    fill: var(--disabled-fill-color);\n",
              "    box-shadow: none;\n",
              "  }\n",
              "\n",
              "  .colab-df-spinner {\n",
              "    border: 2px solid var(--fill-color);\n",
              "    border-color: transparent;\n",
              "    border-bottom-color: var(--fill-color);\n",
              "    animation:\n",
              "      spin 1s steps(1) infinite;\n",
              "  }\n",
              "\n",
              "  @keyframes spin {\n",
              "    0% {\n",
              "      border-color: transparent;\n",
              "      border-bottom-color: var(--fill-color);\n",
              "      border-left-color: var(--fill-color);\n",
              "    }\n",
              "    20% {\n",
              "      border-color: transparent;\n",
              "      border-left-color: var(--fill-color);\n",
              "      border-top-color: var(--fill-color);\n",
              "    }\n",
              "    30% {\n",
              "      border-color: transparent;\n",
              "      border-left-color: var(--fill-color);\n",
              "      border-top-color: var(--fill-color);\n",
              "      border-right-color: var(--fill-color);\n",
              "    }\n",
              "    40% {\n",
              "      border-color: transparent;\n",
              "      border-right-color: var(--fill-color);\n",
              "      border-top-color: var(--fill-color);\n",
              "    }\n",
              "    60% {\n",
              "      border-color: transparent;\n",
              "      border-right-color: var(--fill-color);\n",
              "    }\n",
              "    80% {\n",
              "      border-color: transparent;\n",
              "      border-right-color: var(--fill-color);\n",
              "      border-bottom-color: var(--fill-color);\n",
              "    }\n",
              "    90% {\n",
              "      border-color: transparent;\n",
              "      border-bottom-color: var(--fill-color);\n",
              "    }\n",
              "  }\n",
              "</style>\n",
              "\n",
              "  <script>\n",
              "    async function quickchart(key) {\n",
              "      const quickchartButtonEl =\n",
              "        document.querySelector('#' + key + ' button');\n",
              "      quickchartButtonEl.disabled = true;  // To prevent multiple clicks.\n",
              "      quickchartButtonEl.classList.add('colab-df-spinner');\n",
              "      try {\n",
              "        const charts = await google.colab.kernel.invokeFunction(\n",
              "            'suggestCharts', [key], {});\n",
              "      } catch (error) {\n",
              "        console.error('Error during call to suggestCharts:', error);\n",
              "      }\n",
              "      quickchartButtonEl.classList.remove('colab-df-spinner');\n",
              "      quickchartButtonEl.classList.add('colab-df-quickchart-complete');\n",
              "    }\n",
              "    (() => {\n",
              "      let quickchartButtonEl =\n",
              "        document.querySelector('#df-10e02cb0-f0a4-4950-84bc-a1d21fb68554 button');\n",
              "      quickchartButtonEl.style.display =\n",
              "        google.colab.kernel.accessAllowed ? 'block' : 'none';\n",
              "    })();\n",
              "  </script>\n",
              "</div>\n",
              "\n",
              "    </div>\n",
              "  </div>\n"
            ],
            "application/vnd.google.colaboratory.intrinsic+json": {
              "type": "dataframe",
              "summary": "{\n  \"name\": \"dataset1\",\n  \"rows\": 5,\n  \"fields\": [\n    {\n      \"column\": \"Label\",\n      \"properties\": {\n        \"dtype\": \"string\",\n        \"num_unique_values\": 3,\n        \"samples\": [\n          \"n\\u00f6tr\",\n          \"kar\\u0131\\u015f\\u0131k\",\n          \"negatif\"\n        ],\n        \"semantic_type\": \"\",\n        \"description\": \"\"\n      }\n    },\n    {\n      \"column\": \"Dosya Ad\\u0131\",\n      \"properties\": {\n        \"dtype\": \"string\",\n        \"num_unique_values\": 5,\n        \"samples\": [\n          \"996.txt\",\n          \"999.txt\",\n          \"997.txt\"\n        ],\n        \"semantic_type\": \"\",\n        \"description\": \"\"\n      }\n    },\n    {\n      \"column\": \"Ba\\u015fl\\u0131k\",\n      \"properties\": {\n        \"dtype\": \"string\",\n        \"num_unique_values\": 5,\n        \"samples\": [\n          \"Haczedilen yal\\u0131 i\\u00e7in CHP destek vermedi\",\n          \"\\u00dcnal Erkan\\u0092a i\\u015fkence sorgusu\",\n          \"Ter\\u00f6r propagandas\\u0131na ayr\\u0131nt\\u0131l\\u0131 tan\\u0131m geliyor\"\n        ],\n        \"semantic_type\": \"\",\n        \"description\": \"\"\n      }\n    },\n    {\n      \"column\": \"\\u0130\\u00e7erik\",\n      \"properties\": {\n        \"dtype\": \"string\",\n        \"num_unique_values\": 5,\n        \"samples\": [\n          \"T\\u00fcrk siyasetinde \\u00f6nemli yeri olan \\u0130n\\u00f6n\\u00fc Ailesi\\u0092nin yal\\u0131s\\u0131n\\u0131n m\\u00fcze yap\\u0131lmas\\u0131 i\\u00e7in CHP\\u0092den beklenen destek gelmeyince merhum Erdal \\u0130n\\u00f6n\\u00fc\\u0092n\\u00fcn e\\u015fi Sevin\\u00e7 \\u0130n\\u00f6n\\u00fc 50 milyon dolara ula\\u015fan bir bor\\u00e7la kar\\u015f\\u0131 kar\\u015f\\u0131ya kald\\u0131. \\u015eimdi ailenin umudu, alacakl\\u0131 bankayla masaya oturarak yal\\u0131y\\u0131 kurtaracak bir form\\u00fcl bulmakta.\\n\\nTASF\\u0130YE Halindeki Emlak Bankas\\u0131\\u0092n\\u0131n, 50 milyon dolarl\\u0131k alaca\\u011f\\u0131 nedeniyle sat\\u0131\\u015fa \\u00e7\\u0131kard\\u0131\\u011f\\u0131 Erdal ve Sevin\\u00e7 \\u0130n\\u00f6n\\u00fc \\u00e7iftinin Anadoluhisar\\u0131\\u0092ndaki yal\\u0131s\\u0131 i\\u00e7in pazarl\\u0131klar ba\\u015flad\\u0131. Yal\\u0131y\\u0131, m\\u00fcze yapmay\\u0131 planlayan \\u0130n\\u00f6n\\u00fc Ailesi, CHP\\u0092den konuyla ilgili bir destek gelmeyince, bor\\u00e7lar\\u0131 \\u00f6demek i\\u00e7in banka y\\u00f6netimine ba\\u015fvurdu. \\u0130n\\u00f6n\\u00fc Ailesi\\u0092ne ait yal\\u0131n\\u0131n sat\\u0131\\u015fa \\u00e7\\u0131kar\\u0131lmas\\u0131na ili\\u015fkin s\\u00fcre\\u00e7, Sevin\\u00e7 \\u0130n\\u00f6n\\u00fc ve karde\\u015fi Selim Sohtorik\\u0092e ait gemicilik \\u015firketinin, 1998 y\\u0131l\\u0131nda Emlak Bankas\\u0131\\u0092ndan kulland\\u0131\\u011f\\u0131 kredi ile ba\\u015flad\\u0131. \\u00d6denmeyen kredi\\u00a0 50 milyon\\u00a0 dolara ula\\u015ft\\u0131. Bunun \\u00fczerine banka T\\u00fcrk siyasi tarihinde \\u00f6nemli rol\\u00fc bulunan tarihi yal\\u0131y\\u0131 icra yoluyla sat\\u0131\\u015fa \\u00e7\\u0131kard\\u0131. Bu s\\u00fcre\\u00e7te, aile yal\\u0131y\\u0131 m\\u00fcze yap\\u0131lmak \\u00fczere \\u0130n\\u00f6n\\u00fc Vakf\\u0131\\u0092na devretti. Ancak, mahkeme karar\\u0131yla bankan\\u0131n sat\\u0131\\u015f i\\u015flemine onay verildi. Bu geli\\u015fme \\u00fczerine, \\u0130n\\u00f6n\\u00fc Ailesi, CHP\\u0092den yal\\u0131 \\u00fczerindeki haczin kald\\u0131r\\u0131larak m\\u00fcze haline getirilmesi i\\u00e7in destek bekledi. Ancak bu destek bir t\\u00fcrl\\u00fc gelmedi. Ailenin avukatlar\\u0131 da Tasfiye Halindeki Emlak Bankas\\u0131\\u0092yla bor\\u00e7 i\\u00e7in masaya oturdu.\\u00a0 50 milyon dolarl\\u0131k borcun, faizlerinde \\u00f6nemli indirimler yap\\u0131lmas\\u0131 s\\u00f6z konusu olacak. \\u0130ndirimlerle borcun 13 milyon dolara kadar gerileyece\\u011fi tahmin ediliyor. Aile ile banka aras\\u0131nda \\u00f6deme protokol\\u00fcn imzalanmas\\u0131n\\u0131n ard\\u0131ndan ise yal\\u0131 \\u00fczerindeki haciz karar\\u0131 kald\\u0131r\\u0131lacak.\\n\\u00a0Akayd\\u0131n\\u0092dan \\u00e7ifte ifade\\nANTALYA B\\u00fcy\\u00fck\\u015fehir Belediye Ba\\u015fkan\\u0131 CHP\\u0092li Mustafa Akayd\\u0131n, Savc\\u0131 Osman \\u015eanal\\u0092\\u0131n y\\u00fcr\\u00fctt\\u00fc\\u011f\\u00fc bir yolsuzluk soru\\u015fturmas\\u0131 nedeniyle d\\u00fcn yakla\\u015f\\u0131k 5 saat ifade verdi. Antalya Mali Su\\u00e7lar B\\u00fcrosu ekipleri, bir y\\u0131l \\u00f6nce baz\\u0131 toplu ula\\u015f\\u0131m arac\\u0131 \\u015fof\\u00f6rleri ile yolcular\\u0131n paralar\\u0131n\\u0131n \\u015firket taraf\\u0131ndan hesaplar\\u0131na eksik yat\\u0131r\\u0131ld\\u0131\\u011f\\u0131 \\u015fikayetleri \\u00fczerine soru\\u015fturma ba\\u015flatt\\u0131. Soru\\u015fturma kapsam\\u0131nda Halk Kart\\u0092\\u0131n (A-Kent \\u00d6deme Teknolojileri \\u015eirketi) hizmet binas\\u0131nda arama yap\\u0131ld\\u0131.\\nY\\u00d6K i\\u00e7in de ifade verdi\\n30\\u0092dan fazla belediye \\u00e7al\\u0131\\u015fan\\u0131n\\u0131n ifadesine ba\\u015fvuruldu. Akayd\\u0131n davet \\u00fczerine d\\u00fcn Savc\\u0131 Osman \\u015eanal\\u0092a yakla\\u015f\\u0131k 5 saat ifade verirken, bunu \\u00f6\\u011frenen partililer ve belediye \\u00e7al\\u0131\\u015fanlar\\u0131 da adliye \\u00f6n\\u00fcnde topland\\u0131. Bu arada\\u00a0 Akayd\\u0131n, savc\\u0131ya ifade verdikten sonra Akdeniz \\u00dcniversitesi\\u0092ne ge\\u00e7ti. Burada yakla\\u015f\\u0131k bir saat Y\\u00d6K Denetleme Kurulu\\u0092nun 2 \\u00fcyesinin sorular\\u0131n\\u0131 yan\\u0131tlayan Akayd\\u0131n, \\u0093\\u00c7ok modern bir T\\u00fcrkiye projesi in\\u015faat\\u0131n\\u0131 yapabilmek i\\u00e7in istedi\\u011fim ke\\u015fif art\\u0131\\u015f\\u0131n\\u0131n \\u00fcst makamlar\\u0131 yan\\u0131ltmaya y\\u00f6nelik oldu\\u011fu iddias\\u0131yla yap\\u0131lan bir soru\\u015fturma\\u0094 dedi.\\nB\\u00fcy\\u00fcker\\u015fen\\u0092e g\\u00fcveniyorum\\nCHP lideri Kemal K\\u0131l\\u0131\\u00e7daro\\u011flu, ihaleye fesat kar\\u0131\\u015ft\\u0131rd\\u0131\\u011f\\u0131, kamuyu zarara u\\u011fratt\\u0131\\u011f\\u0131 gerek\\u00e7esiyle d\\u00fczenlenen operasyonla 23 \\u00e7al\\u0131\\u015fan\\u0131 g\\u00f6zalt\\u0131na al\\u0131nan B\\u00fcy\\u00fck\\u015fehir Belediye Ba\\u015fkan\\u0131 Y\\u0131lmaz B\\u00fcy\\u00fcker\\u015fen\\u0092e destek i\\u00e7in geldi\\u011fi Eski\\u015fehir\\u0092de, hesap vermekten korkmad\\u0131klar\\u0131n\\u0131 s\\u00f6yledi. Parti otob\\u00fcs\\u00fcnden halka seslenen K\\u0131l\\u0131\\u00e7daro\\u011flu,\\u00a0 \\u0093B\\u00fcy\\u00fcker\\u015fen, benim de hocamd\\u0131r.\\u00a0 Eski\\u015fehir\\u0092de b\\u00fcy\\u00fck i\\u015fler ba\\u015faran Y\\u0131lmaz B\\u00fcy\\u00fcker\\u015fen\\u0092e ve yapt\\u0131klar\\u0131na g\\u00fcveniyorum ve sonuna kadar destekliyorum\\u0094 diye konu\\u015ftu.\\nHocama inan\\u0131yorum\\nOperasyonu da ele\\u015ftiren K\\u0131l\\u0131\\u00e7daro\\u011flu, CHP ve belediyeleri \\u00fczerinde bir oyun oynanmak istendi\\u011fini iddia etti. K\\u0131l\\u0131\\u00e7daro\\u011flu, \\u015f\\u00f6yle dedi: \\u0093Kendi belediyelerine baks\\u0131nlar. Bir m\\u00fcfetti\\u015f bile g\\u00f6revlendiremiyorlar oraya. Biz denetimden korkmay\\u0131z. Bu operasyon Eski\\u015fehir B\\u00fcy\\u00fck\\u015fehir Belediye Ba\\u015fkan\\u0131\\u0092n\\u0131n itibar\\u0131n\\u0131 y\\u00fckseltmi\\u015ftir.\\u0094\\nK\\u0131l\\u0131\\u00e7daro\\u011flu, B\\u00fcy\\u00fcker\\u015fen\\u0092e, Hazreti Ali\\u0092nin, \\u0093Bana bir harf \\u00f6\\u011fretenin 40 y\\u0131l k\\u00f6lesi olurum\\u0094 s\\u00f6z\\u00fcyle destek verdi ve \\u0093Hocama inan\\u0131yorum. Sizin inand\\u0131\\u011f\\u0131n\\u0131z gibi, ona g\\u00fcveniyorum sizin g\\u00fcvendi\\u011finiz gibi\\u0094 dedi.\",\n          \"12 Eyl\\u00fcl i\\u015fkence soru\\u015fturmas\\u0131 kapsam\\u0131nda d\\u00f6nemin Ankara Emniyet\\u2008M\\u00fcd\\u00fcr\\u00fc Erkan \\u015f\\u00fcpheli s\\u0131fat\\u0131yla ifade verdi. \\u00dcnal\\u0092\\u0131n iste\\u011fi \\u00fczerine sorgusu savc\\u0131l\\u0131kta savc\\u0131 taraf\\u0131ndan de\\u011fil de Ankara Emniyeti\\u0092nde polislerce yap\\u0131ld\\u0131.\\n\\nANKARA\\u2019DA 12 Eyl\\u00fcl d\\u00f6neminde yap\\u0131lan i\\u015fkencelere ili\\u015fkin y\\u00fcr\\u00fct\\u00fclen soru\\u015fturma kapsam\\u0131nda d\\u00f6nemin Ankara Emniyet M\\u00fcd\\u00fcr\\u00fc \\u00dcnal Erkan, \\u015f\\u00fcpheli s\\u0131fat\\u0131yla ifade verdi. \\u0130fadesini savc\\u0131 yerine polisin ald\\u0131\\u011f\\u0131 Erkan, Ankara Emniyeti\\u2019ne 32 y\\u0131l sonra \\u015f\\u00fcpheli olarak gitmi\\u015f oldu. \\nErkan, i\\u015fkence iddialar\\u0131n\\u0131 reddetti. \\n\\u0130\\u015fkencelerden bilgim yok \\n12 Eyl\\u00fcl sistematik i\\u015fkence soru\\u015fturmas\\u0131n\\u0131 y\\u00fcr\\u00fcten Ankara Savc\\u0131s\\u0131 Murat Demir\\u2019in talimat\\u0131 \\u00fczerine d\\u00f6nemin Ankara Emniyet M\\u00fcd\\u00fcr\\u00fc \\u00dcnal Erkan \\u015f\\u00fcpheli olarak ifadeye \\u00e7a\\u011fr\\u0131ld\\u0131. Ancak Erkan, savc\\u0131l\\u0131k yerine Ankara Emniyeti\\u2019nde ifade vermek istedi\\u011fini bildirdi. Bunun \\u00fczerine Erkan\\u2019\\u0131n ifadesi emniyette polislerce al\\u0131nd\\u0131. \\nRaci Tetik 3 ayd\\u0131r bekliyor \\nBir d\\u00f6nem OHAL Valili\\u011fi de yapan Erkan, ifadesinde darbe d\\u00f6neminde emniyette yap\\u0131lan i\\u015fkence iddialar\\u0131n\\u0131 reddederken konudan bilgisinin olmad\\u0131\\u011f\\u0131n\\u0131 \\u00f6ne s\\u00fcrd\\u00fc. 12 Eyl\\u00fcl davas\\u0131n\\u0131n iddianamesinde Ankara Emniyeti\\u2019ne ba\\u011fl\\u0131 DAL Grubu\\u2019nun g\\u00f6zalt\\u0131na al\\u0131nan ki\\u015filere i\\u015fkence yapt\\u0131\\u011f\\u0131 anlat\\u0131lm\\u0131\\u015ft\\u0131. Soru\\u015fturma kapsam\\u0131nda \\u015fuana kadar 35 \\u015f\\u00fcpheli polis ve askerin ifadesinin al\\u0131nd\\u0131\\u011f\\u0131 \\u00f6\\u011frenildi. \\u015e\\u00fcphelilerden d\\u00f6nemin Mamak Askeri Cezaevi M\\u00fcd\\u00fcr\\u00fc Raci Tetik\\u2019in ifadesinin al\\u0131nmas\\u0131 i\\u00e7in de \\u00dcsk\\u00fcdar Ba\\u015fsavc\\u0131l\\u0131\\u011f\\u0131\\u2019na talimat yaz\\u0131lm\\u0131\\u015ft\\u0131. Ancak, 3 ay ge\\u00e7mesine kar\\u015f\\u0131n \\u00dcsk\\u00fcdar Ba\\u015fsavc\\u0131l\\u0131\\u011f\\u0131 hen\\u00fcz Tetik\\u2019in ifadesine ba\\u015fvurmad\\u0131.\",\n          \"Ter\\u00f6r \\u00f6rg\\u00fct\\u00fc \\u00fcyesi olmay\\u0131p da ter\\u00f6r \\u00f6rg\\u00fct\\u00fc propagandas\\u0131 yapanlar\\u0131n da \\u00f6rg\\u00fct \\u00fcyeli\\u011finden ceza almamas\\u0131n\\u0131 \\u00f6ng\\u00f6ren 4\\u0092\\u00fcnc\\u00fc Yarg\\u0131 Paketi ilk Bakanlar Kurulu\\u0092nda ele al\\u0131nacak. Paket\\u0092te Dink soru\\u015fturmas\\u0131n\\u0131n tekrar a\\u00e7\\u0131lmas\\u0131na imkan tan\\u0131yan d\\u00fczenleme de yer alacak.\\n\\nT\\u00dcRK\\u0130YE\\u0092N\\u0130N tam demokrasi yolundaki en \\u00f6nemli ad\\u0131mlar\\u0131ndan olan 4\\u0092\\u00fcnc\\u00fc Yarg\\u0131 Paketi, \\u00e7ok ele\\u015ftirilen \\u0093ter\\u00f6r \\u00f6rg\\u00fct\\u00fc propagandas\\u0131\\u0094na ayr\\u0131nt\\u0131l\\u0131 tan\\u0131mlama ve Hrant Dink davas\\u0131nda g\\u00fcndeme gelen \\u0093soru\\u015fturman\\u0131n yeniden a\\u00e7\\u0131lmas\\u0131\\u0094n\\u0131 \\u00f6ng\\u00f6ren reformlar i\\u00e7eriyor. \\u0130lk Bakanlar Kurulu toplant\\u0131s\\u0131nda ele al\\u0131nmas\\u0131 beklenen 4. Yarg\\u0131 Paketi\\u0092nde, A\\u0130HM\\u0092in \\u0093Etkin soru\\u015fturma yap\\u0131lmad\\u0131\\u0094 karar\\u0131 verdi\\u011fi dosyalarda tazminat \\u00f6denmesinin yan\\u0131 s\\u0131ra ba\\u015fvuru yeniden soru\\u015fturma a\\u00e7\\u0131lmas\\u0131 da d\\u00fczenleniyor.\\nTCK 220\\u0092de 3 \\u00f6nemli de\\u011fi\\u015fiklik\\nT\\u00fcrk Ceza Kanunu\\u0092nun (TCK) \\u0093Su\\u00e7 i\\u015flemek amac\\u0131yla \\u00f6rg\\u00fct kurma\\u0094 ba\\u015fl\\u0131\\u011f\\u0131n\\u0131 ta\\u015f\\u0131yan 220. maddesinde de \\u00f6nemli de\\u011fi\\u015fiklikler yap\\u0131lacak. En \\u00f6nemli de\\u011fi\\u015fikli\\u011fi ise \\u0093\\u00f6rg\\u00fct\\u00fcn amac\\u0131n\\u0131n propagandas\\u0131n\\u0131 yapmak\\u0094 h\\u00fckm\\u00fcnde olacak. Propagandan\\u0131n A\\u0130HM kararlar\\u0131 do\\u011frultusunda tan\\u0131m\\u0131 yap\\u0131lacak. Bu su\\u00e7ta, \\u0093\\u015fiddet i\\u00e7erme, \\u015fiddeti te\\u015fvik etme, a\\u00e7\\u0131k\\u00e7a \\u00f6vme\\u0094 gibi kriterler aranacak.\\nSilahlar\\u0131n e\\u015fitli\\u011fi sa\\u011flanacak\\nSavc\\u0131l\\u0131k ve savunma aras\\u0131nda silahlar\\u0131n e\\u015fitli\\u011fi sa\\u011flanacak. Tutukluluk kararlar\\u0131na yap\\u0131lan itirazlarda hakim, savc\\u0131n\\u0131n g\\u00f6r\\u00fc\\u015f\\u00fcn\\u00fc alarak karar veriyordu. Yeni d\\u00fczenlemeyle savc\\u0131n\\u0131n g\\u00f6r\\u00fc\\u015f\\u00fc san\\u0131k/\\u015f\\u00fcpheli avukat\\u0131na bildirilecek ve kar\\u015f\\u0131 g\\u00f6r\\u00fc\\u015f\\u00fc al\\u0131nacak. A\\u0130HM\\u0092in ihlal karar\\u0131 verdi\\u011fi askeri yarg\\u0131 kararlar\\u0131na da yeniden yarg\\u0131lama yolu a\\u00e7\\u0131lacak.\\nHrant Dink d\\u00fczenlemesi\\nBakanlar Kurulu\\u0092na sunulduktan sonra son \\u015fekli verilecek olan 4.Yarg\\u0131 Paketi\\u0092nin, Hrant Dink cinayeti gibi etkin soru\\u015fturma yap\\u0131lmad\\u0131\\u011f\\u0131 soru\\u015fturmalar\\u0131 etkileyecek. Ge\\u00e7mi\\u015fte, A\\u0130HM\\u0092in \\u0093etkin soru\\u015fturma yap\\u0131lmad\\u0131\\u0094 kararlar\\u0131 tazminat cezas\\u0131 ile sonlan\\u0131yordu. Cumhuriyet savc\\u0131lar\\u0131n\\u0131n yeterli soru\\u015fturma yapmadan verdikleri \\u0093kovu\\u015fturmaya yer yoktur\\u0094 kararlar\\u0131 T\\u00fcrkiye\\u0092yi A\\u0130HM nezdinde mahkum ettiriyordu. Yeni d\\u00fczenlemeyle birlikte A\\u0130HM\\u0092in ihlal karar\\u0131ndan sonra ba\\u015fvurucu taraf\\u0131n talep etmesi halinde yeniden soru\\u015fturma ba\\u015flat\\u0131labilecek. Bu d\\u00fczenleme Hrant Dink soru\\u015fturmas\\u0131n\\u0131n yeniden a\\u00e7\\u0131lmas\\u0131na yol a\\u00e7abilecek. A\\u0130HM, 14 Eyl\\u00fcl 2010\\u0092de verdi\\u011fi kararda, Dink cinayetiyle ilgili yeterli ve etkin soru\\u015fturma yap\\u0131lmad\\u0131\\u011f\\u0131na karar vermi\\u015fti.\\nASKER\\u0130 YARGIYA DA YEN\\u0130DEN YARGILAMA\\nAskeri yarg\\u0131n\\u0131n verdi\\u011fi kararlardan dolay\\u0131 A\\u0130HM\\u0092in verdi\\u011fi ihlal kararlar\\u0131 yeniden yarg\\u0131lama konusu yap\\u0131lm\\u0131yordu. Adli yarg\\u0131da olan yeniden yarg\\u0131lama kurumu, askeri yarg\\u0131da yoktu. 4. Paket\\u0092le birlikte askeri yarg\\u0131n\\u0131n ihlal kararlar\\u0131 da yeniden yarg\\u0131lamaya tabi tutulabilecek.\\nPROPAGANDAYA A\\u0130HM KR\\u0130TER\\u0130\\nPaketle TCK\\u0092n\\u0131n 220/6-7-8.maddelerinde \\u00f6nemli de\\u011fi\\u015fiklikler yap\\u0131l\\u0131yor. \\u0093Su\\u00e7 i\\u015flemek i\\u00e7in \\u00f6rg\\u00fct kurma\\u0094 ba\\u015fl\\u0131kl\\u0131 maddenin 8. f\\u0131kras\\u0131nda yer alan \\u0093\\u00d6rg\\u00fct\\u00fcn veya amac\\u0131n\\u0131n propagandas\\u0131n\\u0131 yapan ki\\u015fi\\u0094 ibaresi mu\\u011flakl\\u0131ktan kurtar\\u0131lacak. F\\u0131krada yer alan \\u0093Propaganda su\\u00e7u\\u0094 daha belirgin hale getiriliyor.\\u00a0\\u00a0 Propagandaya A\\u0130HM kriteri getiriliyor. A\\u0130HM kararlar\\u0131nda oldu\\u011fu gibi, eylemin veya ifade a\\u00e7\\u0131klamalar\\u0131n\\u0131n propaganda say\\u0131lmas\\u0131 i\\u00e7in \\u015fiddeti a\\u00e7\\u0131k\\u00e7a \\u00f6vmesi, te\\u015fvik etmesi, telkin etmesi, bar\\u0131nd\\u0131rmas\\u0131 gibi \\u015fartlar aranacak. \\u015eiddet i\\u00e7ermeyen d\\u00fc\\u015f\\u00fcnce a\\u00e7\\u0131klamalar\\u0131 su\\u00e7 olmaktan \\u00e7\\u0131kar\\u0131lacak.\\u00a0 Ayn\\u0131 maddenin 6. f\\u0131kras\\u0131nda yer alan \\u0093\\u00d6rg\\u00fcte \\u00fcye olmamakla birlikte \\u00f6rg\\u00fct ad\\u0131na su\\u00e7 i\\u015fleyen ki\\u015fi, ayr\\u0131ca \\u00f6rg\\u00fcte \\u00fcye olmak su\\u00e7undan da cezaland\\u0131r\\u0131l\\u0131r\\u0094 ibaresi de de\\u011fi\\u015fiyor. Ayn\\u0131 \\u015fekilde 7. f\\u0131krada yer alan \\u0093\\u00d6rg\\u00fct i\\u00e7indeki hiyerar\\u015fik yap\\u0131ya dahil olmamakla birlikte, \\u00f6rg\\u00fcte bilerek ve isteyerek yard\\u0131m eden ki\\u015fi, \\u00f6rg\\u00fct \\u00fcyesi olarak cezaland\\u0131r\\u0131l\\u0131r\\u0094 h\\u00fck\\u00fcmleri de de\\u011fi\\u015fiyor.\\nDOSYA \\u00dcZER\\u0130NDEN TUTUKLAMA\\nPaketteki \\u00f6nemli d\\u00fczenlemelerden bir di\\u011feri ise \\u0093Silahlar\\u0131n e\\u015fitli\\u011fi\\u0094nde oldu. Mahkemeler, san\\u0131k veya \\u015f\\u00fcphelilerin tutuklama kararlar\\u0131na kar\\u015f\\u0131 yap\\u0131lan itirazlarda Cumhuriyet savc\\u0131s\\u0131n\\u0131n g\\u00f6r\\u00fc\\u015f\\u00fcn\\u00fc sorup karar veriyordu. Yeni d\\u00fczenlemeyle birlikte savc\\u0131n\\u0131n g\\u00f6r\\u00fc\\u015f\\u00fc san\\u0131k veya \\u015f\\u00fcphelinin avukat\\u0131na da bildirilecek, buna kar\\u015f\\u0131 g\\u00f6r\\u00fc\\u015f\\u00fc istenecek. Tutuklama kararlar\\u0131na itirazlarda savc\\u0131 g\\u00f6r\\u00fc\\u015f\\u00fc, savc\\u0131 g\\u00f6r\\u00fc\\u015f\\u00fcne kar\\u015f\\u0131 avukat g\\u00f6r\\u00fc\\u015f\\u00fc al\\u0131nmadan mahkemeler karar veremeyecek.\\u00a0 Ceza Muhakemeleri Kanunu (CMK) uyar\\u0131nca mahkemelerin tutuklu dosyalarda 30 g\\u00fcnde bir mahkeme karar\\u0131 gerekiyor. Mahkemeler tutuklu dosyalar\\u0131n\\u0131, dosya \\u00fczerinde g\\u00f6r\\u00fc\\u015f\\u00fcyordu. Yeni d\\u00fczenlemeyle ayda bir yap\\u0131lacak tutukluluk konusundaki de\\u011ferlendirmede avukat ve san\\u0131k da bulunacak.\\nC\\u0130NSEL SU\\u00c7LARA A\\u011eIR CEZA\\nPakette cinsel su\\u00e7larla ilgili \\u00f6nemli d\\u00fczenlemeler yer al\\u0131yor. \\u0093Cinsel sald\\u0131r\\u0131, cinsel taciz\\u0094 su\\u00e7lar\\u0131nda yapt\\u0131r\\u0131mlar daha da a\\u011f\\u0131rl\\u0131\\u015ft\\u0131r\\u0131l\\u0131yor. Cinsel su\\u00e7larda ma\\u011fdurun beden ve ruh sa\\u011fl\\u0131\\u011f\\u0131n\\u0131n bozulup bozulmad\\u0131\\u011f\\u0131na dair bir rapor ald\\u0131r\\u0131lmas\\u0131 uygulamas\\u0131 kald\\u0131r\\u0131l\\u0131yor. \\u0093Ensest\\u0094 ili\\u015fki olarak da bilinen evlenme yasa\\u011f\\u0131 bulunan ki\\u015filer aras\\u0131ndaki ili\\u015fki, do\\u011frudan kamu davas\\u0131 olarak ele al\\u0131nacak. \\u015eikayete ba\\u011fl\\u0131 olan 15-18 ya\\u015f aras\\u0131ndaki cinsel istismar su\\u00e7lar\\u0131yla \\u0093ensest\\u0094 ili\\u015fki \\u015fikayete ba\\u011fl\\u0131 olmaktan \\u00e7\\u0131kar\\u0131l\\u0131yor. Savc\\u0131lar, ne \\u015fekilde al\\u0131rlarsa als\\u0131nlar, olay\\u0131 haber al\\u0131r almaz re\\u0092sen soru\\u015fturma ba\\u015flatarak kamu davas\\u0131 a\\u00e7acak.\"\n        ],\n        \"semantic_type\": \"\",\n        \"description\": \"\"\n      }\n    },\n    {\n      \"column\": \"label_id\",\n      \"properties\": {\n        \"dtype\": \"number\",\n        \"std\": 0,\n        \"min\": 1,\n        \"max\": 3,\n        \"num_unique_values\": 3,\n        \"samples\": [\n          2,\n          3,\n          1\n        ],\n        \"semantic_type\": \"\",\n        \"description\": \"\"\n      }\n    }\n  ]\n}"
            }
          },
          "metadata": {},
          "execution_count": 10
        }
      ],
      "source": [
        "dataset1.tail()"
      ]
    },
    {
      "cell_type": "markdown",
      "metadata": {
        "id": "6N5Iqiy6JNX4"
      },
      "source": [
        "##Show Category’s Name w.r.t Category ID"
      ]
    },
    {
      "cell_type": "code",
      "execution_count": null,
      "metadata": {
        "colab": {
          "base_uri": "https://localhost:8080/"
        },
        "id": "Fa2eK-HhJBCS",
        "outputId": "c93ac004-d0d4-4372-fd01-72bcf82ca24c"
      },
      "outputs": [
        {
          "output_type": "stream",
          "name": "stdout",
          "text": [
            "     Label  label_id\n",
            "1  pozitif         0\n",
            "0  negatif         1\n",
            "6     nötr         2\n",
            "5  karışık         3\n"
          ]
        }
      ],
      "source": [
        "Label = dataset1[['Label', 'label_id']].drop_duplicates().sort_values('label_id')\n",
        "print(Label)"
      ]
    },
    {
      "cell_type": "markdown",
      "metadata": {
        "id": "w5f_QqfDJi9v"
      },
      "source": [
        "##Exploratory Data Analysis (EDA)"
      ]
    },
    {
      "cell_type": "markdown",
      "metadata": {
        "id": "F5QjlendJoR2"
      },
      "source": [
        "#Visualizing Data"
      ]
    },
    {
      "cell_type": "code",
      "execution_count": null,
      "metadata": {
        "colab": {
          "base_uri": "https://localhost:8080/",
          "height": 535
        },
        "id": "_P0VyE0wJs0d",
        "outputId": "e9c5b9c1-185c-4561-ce30-4d1e0c950aed"
      },
      "outputs": [
        {
          "output_type": "display_data",
          "data": {
            "text/plain": [
              "<Figure size 640x480 with 1 Axes>"
            ],
            "image/png": "[encoded data removed]"
          },
          "metadata": {}
        }
      ],
      "source": [
        "dataset1.groupby('Label').label_id.value_counts().plot(kind = \"bar\", color = [\"pink\", \"orange\", \"red\", \"yellow\", \"blue\"])\n",
        "plt.xlabel(\"Category of data\")\n",
        "plt.title(\"Visulaize numbers of Category of data\")\n",
        "plt.show()"
      ]
    },
    {
      "cell_type": "markdown",
      "metadata": {
        "id": "mQeZsWE4Jv69"
      },
      "source": [
        "#Visualizing Category Related Words"
      ]
    },
    {
      "cell_type": "code",
      "execution_count": null,
      "metadata": {
        "colab": {
          "base_uri": "https://localhost:8080/",
          "height": 397
        },
        "id": "GU27-b3GN2zI",
        "outputId": "dfcab22b-6466-403e-db95-802b872c3212"
      },
      "outputs": [
        {
          "output_type": "execute_result",
          "data": {
            "text/plain": [
              "0    Golf Federasyonu Başkanı Ağaoğlu, gazeteci ile...\n",
              "1    Çevre ve Şehircilik Bakanlığı, fabrika bacalar...\n",
              "2    Bakanlık yetkililerinden alınan bilgiye göre, ...\n",
              "3    Ağrıda çekilen fotoğraflarda yer alan cisimle...\n",
              "4    Göktürk-2 uydusununun fırlatılması sırasında y...\n",
              "5    BATMAN Çayında geçen hafta boğularak öldürülm...\n",
              "6    Yargıtay Ceza Genel Kurulu, mahkeme kararına d...\n",
              "7    CHP Genel Başkanı Kemal Kılıçdaroğlu, gazeteci...\n",
              "8    MHP Grup Başkanvekili Oktay Vural, Başbakan Ta...\n",
              "9    Başbakan Yardımcısı Bülent Arınç, Genelkurmay...\n",
              "Name: İçerik, dtype: object"
            ],
            "text/html": [
              "<div>\n",
              "<style scoped>\n",
              "    .dataframe tbody tr th:only-of-type {\n",
              "        vertical-align: middle;\n",
              "    }\n",
              "\n",
              "    .dataframe tbody tr th {\n",
              "        vertical-align: top;\n",
              "    }\n",
              "\n",
              "    .dataframe thead th {\n",
              "        text-align: right;\n",
              "    }\n",
              "</style>\n",
              "<table border=\"1\" class=\"dataframe\">\n",
              "  <thead>\n",
              "    <tr style=\"text-align: right;\">\n",
              "      <th></th>\n",
              "      <th>İçerik</th>\n",
              "    </tr>\n",
              "  </thead>\n",
              "  <tbody>\n",
              "    <tr>\n",
              "      <th>0</th>\n",
              "      <td>Golf Federasyonu Başkanı Ağaoğlu, gazeteci ile...</td>\n",
              "    </tr>\n",
              "    <tr>\n",
              "      <th>1</th>\n",
              "      <td>Çevre ve Şehircilik Bakanlığı, fabrika bacalar...</td>\n",
              "    </tr>\n",
              "    <tr>\n",
              "      <th>2</th>\n",
              "      <td>Bakanlık yetkililerinden alınan bilgiye göre, ...</td>\n",
              "    </tr>\n",
              "    <tr>\n",
              "      <th>3</th>\n",
              "      <td>Ağrıda çekilen fotoğraflarda yer alan cisimle...</td>\n",
              "    </tr>\n",
              "    <tr>\n",
              "      <th>4</th>\n",
              "      <td>Göktürk-2 uydusununun fırlatılması sırasında y...</td>\n",
              "    </tr>\n",
              "    <tr>\n",
              "      <th>5</th>\n",
              "      <td>BATMAN Çayında geçen hafta boğularak öldürülm...</td>\n",
              "    </tr>\n",
              "    <tr>\n",
              "      <th>6</th>\n",
              "      <td>Yargıtay Ceza Genel Kurulu, mahkeme kararına d...</td>\n",
              "    </tr>\n",
              "    <tr>\n",
              "      <th>7</th>\n",
              "      <td>CHP Genel Başkanı Kemal Kılıçdaroğlu, gazeteci...</td>\n",
              "    </tr>\n",
              "    <tr>\n",
              "      <th>8</th>\n",
              "      <td>MHP Grup Başkanvekili Oktay Vural, Başbakan Ta...</td>\n",
              "    </tr>\n",
              "    <tr>\n",
              "      <th>9</th>\n",
              "      <td>Başbakan Yardımcısı Bülent Arınç, Genelkurmay...</td>\n",
              "    </tr>\n",
              "  </tbody>\n",
              "</table>\n",
              "</div><br><label><b>dtype:</b> object</label>"
            ]
          },
          "metadata": {},
          "execution_count": 13
        }
      ],
      "source": [
        "haber_içeriği = dataset1[\"İçerik\"]\n",
        "haber_içeriği.head(10)"
      ]
    },
    {
      "cell_type": "code",
      "execution_count": null,
      "metadata": {
        "id": "0x0l5ybZN7nm"
      },
      "outputs": [],
      "source": [
        "def remove_tags(text):\n",
        "    # Example regex to remove URLs\n",
        "    remove = re.compile(r'http[s]?://\\S+')\n",
        "    return re.sub(remove, '', text)"
      ]
    },
    {
      "cell_type": "code",
      "execution_count": null,
      "metadata": {
        "colab": {
          "base_uri": "https://localhost:8080/"
        },
        "id": "DslASqQDN-oT",
        "outputId": "7d9e6ec0-34da-423f-d9c1-18e8b393441f"
      },
      "outputs": [
        {
          "output_type": "stream",
          "name": "stdout",
          "text": [
            "çevre ve şehircilik bakanlığı, fabrika bacalarından çıkan kirletici gazları 12 ekim'den itibaren online izlemeye başlayacak. sınır değerin üzerinde kirleten tesislere yaptırım uygulanacak.\n",
            " çevre ve şehircilik bakanlığı'nın, daha sağlıklı veriler alınabilmesi amacıyla sürekli emisyon ölçüm sistemlerinin seçimi, kurulumu, kalibrasyonu, bakımı ve işletiminde dikkat edilecek konuları düzenlediği ''sürekli emisyon ölçüm sistemleri tebliği'', 12 ekim'de yürürlüğe giriyor.\n",
            " tebliğin yürürlüğe girmesiyle, kirletici vasfı yüksek sanayi tesislerinin bacalarındaki ölçüm cihazlarından elde edilen veriler, anında bakanlığın gölbaşı hizmet binasında kurulan online izleme merkezine aktarılacak.\n",
            " sistemle, yönetmeliklerdeki sınır değerlerin üzerinde kirletici yaydığı tespit edilen sanayi tesislerine yaptırım uygulanacak.\n",
            " aa\n"
          ]
        },
        {
          "output_type": "stream",
          "name": "stderr",
          "text": [
            "<ipython-input-15-398efa364d2f>:9: SettingWithCopyWarning: \n",
            "A value is trying to be set on a copy of a slice from a DataFrame.\n",
            "Try using .loc[row_indexer,col_indexer] = value instead\n",
            "\n",
            "See the caveats in the documentation: https://pandas.pydata.org/pandas-docs/stable/user_guide/indexing.html#returning-a-view-versus-a-copy\n",
            "  dataset1['İçerik'] = dataset1['İçerik'].astype(str).apply(convert_lower)\n"
          ]
        }
      ],
      "source": [
        "def convert_lower(text):\n",
        "    # Check if the text is a string, then convert to lowercase\n",
        "    if isinstance(text, str):\n",
        "        return text.lower()\n",
        "    # Return the text as-is if it's not a string\n",
        "    return text\n",
        "\n",
        "# Ensure all entries are treated as strings before applying the function\n",
        "dataset1['İçerik'] = dataset1['İçerik'].astype(str).apply(convert_lower)\n",
        "\n",
        "# Verify the result\n",
        "print(dataset1['İçerik'][1])"
      ]
    },
    {
      "cell_type": "code",
      "execution_count": null,
      "metadata": {
        "colab": {
          "base_uri": "https://localhost:8080/",
          "height": 423
        },
        "id": "I1fzyVrmOIcT",
        "outputId": "73a2c115-aa6e-40f6-c3ab-d63afcbb26e5"
      },
      "outputs": [
        {
          "output_type": "execute_result",
          "data": {
            "text/plain": [
              "         Label Dosya Adı                                             Başlık  \\\n",
              "0      negatif     1.txt                            'Basından özür dilerim'   \n",
              "1      pozitif    10.txt                     Kirletici gazlara online takip   \n",
              "2      pozitif   100.txt                           Öğretmen maaşlarına zam!   \n",
              "3      pozitif  1000.txt                 Fotoğraflardaki görüntüler UFO mu?   \n",
              "4      negatif  1001.txt                  Gerçekler yansıtıldığı gibi değil   \n",
              "...        ...       ...                                                ...   \n",
              "14364     nötr   995.txt  Diyanet 400 bin hadis taradı 20 bin hadisi 6 c...   \n",
              "14365  karışık   996.txt            Haczedilen yalı için CHP destek vermedi   \n",
              "14366     nötr   997.txt       Terör propagandasına ayrıntılı tanım geliyor   \n",
              "14367  karışık   998.txt                   28 Şubat kararları iptal edilsin   \n",
              "14368  negatif   999.txt                       Ünal Erkana işkence sorgusu   \n",
              "\n",
              "                                                  İçerik  label_id  \n",
              "0      golf federasyonu başkanı ağaoğlu, gazeteci ile...         1  \n",
              "1      çevre ve şehircilik bakanlığı, fabrika bacalar...         0  \n",
              "2      bakanlık yetkililerinden alınan bilgiye göre, ...         0  \n",
              "3      ağrıda çekilen fotoğraflarda yer alan cisimle...         0  \n",
              "4      göktürk-2 uydusununun fırlatılması sırasında y...         1  \n",
              "...                                                  ...       ...  \n",
              "14364  türkiyenin önde gelen 100 hadis uzmanının kat...         2  \n",
              "14365  türk siyasetinde önemli yeri olan i̇nönü ailes...         3  \n",
              "14366  terör örgütü üyesi olmayıp da terör örgütü pro...         2  \n",
              "14367  umut davası kapsamında yargılanan 3 sanık, üye...         3  \n",
              "14368  12 eylül işkence soruşturması kapsamında dönem...         1  \n",
              "\n",
              "[14336 rows x 5 columns]"
            ],
            "text/html": [
              "\n",
              "  <div id=\"df-f0484fcb-49ff-46c4-9f3a-28dc821524cd\" class=\"colab-df-container\">\n",
              "    <div>\n",
              "<style scoped>\n",
              "    .dataframe tbody tr th:only-of-type {\n",
              "        vertical-align: middle;\n",
              "    }\n",
              "\n",
              "    .dataframe tbody tr th {\n",
              "        vertical-align: top;\n",
              "    }\n",
              "\n",
              "    .dataframe thead th {\n",
              "        text-align: right;\n",
              "    }\n",
              "</style>\n",
              "<table border=\"1\" class=\"dataframe\">\n",
              "  <thead>\n",
              "    <tr style=\"text-align: right;\">\n",
              "      <th></th>\n",
              "      <th>Label</th>\n",
              "      <th>Dosya Adı</th>\n",
              "      <th>Başlık</th>\n",
              "      <th>İçerik</th>\n",
              "      <th>label_id</th>\n",
              "    </tr>\n",
              "  </thead>\n",
              "  <tbody>\n",
              "    <tr>\n",
              "      <th>0</th>\n",
              "      <td>negatif</td>\n",
              "      <td>1.txt</td>\n",
              "      <td>'Basından özür dilerim'</td>\n",
              "      <td>golf federasyonu başkanı ağaoğlu, gazeteci ile...</td>\n",
              "      <td>1</td>\n",
              "    </tr>\n",
              "    <tr>\n",
              "      <th>1</th>\n",
              "      <td>pozitif</td>\n",
              "      <td>10.txt</td>\n",
              "      <td>Kirletici gazlara online takip</td>\n",
              "      <td>çevre ve şehircilik bakanlığı, fabrika bacalar...</td>\n",
              "      <td>0</td>\n",
              "    </tr>\n",
              "    <tr>\n",
              "      <th>2</th>\n",
              "      <td>pozitif</td>\n",
              "      <td>100.txt</td>\n",
              "      <td>Öğretmen maaşlarına zam!</td>\n",
              "      <td>bakanlık yetkililerinden alınan bilgiye göre, ...</td>\n",
              "      <td>0</td>\n",
              "    </tr>\n",
              "    <tr>\n",
              "      <th>3</th>\n",
              "      <td>pozitif</td>\n",
              "      <td>1000.txt</td>\n",
              "      <td>Fotoğraflardaki görüntüler UFO mu?</td>\n",
              "      <td>ağrıda çekilen fotoğraflarda yer alan cisimle...</td>\n",
              "      <td>0</td>\n",
              "    </tr>\n",
              "    <tr>\n",
              "      <th>4</th>\n",
              "      <td>negatif</td>\n",
              "      <td>1001.txt</td>\n",
              "      <td>Gerçekler yansıtıldığı gibi değil</td>\n",
              "      <td>göktürk-2 uydusununun fırlatılması sırasında y...</td>\n",
              "      <td>1</td>\n",
              "    </tr>\n",
              "    <tr>\n",
              "      <th>...</th>\n",
              "      <td>...</td>\n",
              "      <td>...</td>\n",
              "      <td>...</td>\n",
              "      <td>...</td>\n",
              "      <td>...</td>\n",
              "    </tr>\n",
              "    <tr>\n",
              "      <th>14364</th>\n",
              "      <td>nötr</td>\n",
              "      <td>995.txt</td>\n",
              "      <td>Diyanet 400 bin hadis taradı 20 bin hadisi 6 c...</td>\n",
              "      <td>türkiyenin önde gelen 100 hadis uzmanının kat...</td>\n",
              "      <td>2</td>\n",
              "    </tr>\n",
              "    <tr>\n",
              "      <th>14365</th>\n",
              "      <td>karışık</td>\n",
              "      <td>996.txt</td>\n",
              "      <td>Haczedilen yalı için CHP destek vermedi</td>\n",
              "      <td>türk siyasetinde önemli yeri olan i̇nönü ailes...</td>\n",
              "      <td>3</td>\n",
              "    </tr>\n",
              "    <tr>\n",
              "      <th>14366</th>\n",
              "      <td>nötr</td>\n",
              "      <td>997.txt</td>\n",
              "      <td>Terör propagandasına ayrıntılı tanım geliyor</td>\n",
              "      <td>terör örgütü üyesi olmayıp da terör örgütü pro...</td>\n",
              "      <td>2</td>\n",
              "    </tr>\n",
              "    <tr>\n",
              "      <th>14367</th>\n",
              "      <td>karışık</td>\n",
              "      <td>998.txt</td>\n",
              "      <td>28 Şubat kararları iptal edilsin</td>\n",
              "      <td>umut davası kapsamında yargılanan 3 sanık, üye...</td>\n",
              "      <td>3</td>\n",
              "    </tr>\n",
              "    <tr>\n",
              "      <th>14368</th>\n",
              "      <td>negatif</td>\n",
              "      <td>999.txt</td>\n",
              "      <td>Ünal Erkana işkence sorgusu</td>\n",
              "      <td>12 eylül işkence soruşturması kapsamında dönem...</td>\n",
              "      <td>1</td>\n",
              "    </tr>\n",
              "  </tbody>\n",
              "</table>\n",
              "<p>14336 rows × 5 columns</p>\n",
              "</div>\n",
              "    <div class=\"colab-df-buttons\">\n",
              "\n",
              "  <div class=\"colab-df-container\">\n",
              "    <button class=\"colab-df-convert\" onclick=\"convertToInteractive('df-f0484fcb-49ff-46c4-9f3a-28dc821524cd')\"\n",
              "            title=\"Convert this dataframe to an interactive table.\"\n",
              "            style=\"display:none;\">\n",
              "\n",
              "  <svg xmlns=\"http://www.w3.org/2000/svg\" height=\"24px\" viewBox=\"0 -960 960 960\">\n",
              "    <path d=\"M120-120v-720h720v720H120Zm60-500h600v-160H180v160Zm220 220h160v-160H400v160Zm0 220h160v-160H400v160ZM180-400h160v-160H180v160Zm440 0h160v-160H620v160ZM180-180h160v-160H180v160Zm440 0h160v-160H620v160Z\"/>\n",
              "  </svg>\n",
              "    </button>\n",
              "\n",
              "  <style>\n",
              "    .colab-df-container {\n",
              "      display:flex;\n",
              "      gap: 12px;\n",
              "    }\n",
              "\n",
              "    .colab-df-convert {\n",
              "      background-color: #E8F0FE;\n",
              "      border: none;\n",
              "      border-radius: 50%;\n",
              "      cursor: pointer;\n",
              "      display: none;\n",
              "      fill: #1967D2;\n",
              "      height: 32px;\n",
              "      padding: 0 0 0 0;\n",
              "      width: 32px;\n",
              "    }\n",
              "\n",
              "    .colab-df-convert:hover {\n",
              "      background-color: #E2EBFA;\n",
              "      box-shadow: 0px 1px 2px rgba(60, 64, 67, 0.3), 0px 1px 3px 1px rgba(60, 64, 67, 0.15);\n",
              "      fill: #174EA6;\n",
              "    }\n",
              "\n",
              "    .colab-df-buttons div {\n",
              "      margin-bottom: 4px;\n",
              "    }\n",
              "\n",
              "    [theme=dark] .colab-df-convert {\n",
              "      background-color: #3B4455;\n",
              "      fill: #D2E3FC;\n",
              "    }\n",
              "\n",
              "    [theme=dark] .colab-df-convert:hover {\n",
              "      background-color: #434B5C;\n",
              "      box-shadow: 0px 1px 3px 1px rgba(0, 0, 0, 0.15);\n",
              "      filter: drop-shadow(0px 1px 2px rgba(0, 0, 0, 0.3));\n",
              "      fill: #FFFFFF;\n",
              "    }\n",
              "  </style>\n",
              "\n",
              "    <script>\n",
              "      const buttonEl =\n",
              "        document.querySelector('#df-f0484fcb-49ff-46c4-9f3a-28dc821524cd button.colab-df-convert');\n",
              "      buttonEl.style.display =\n",
              "        google.colab.kernel.accessAllowed ? 'block' : 'none';\n",
              "\n",
              "      async function convertToInteractive(key) {\n",
              "        const element = document.querySelector('#df-f0484fcb-49ff-46c4-9f3a-28dc821524cd');\n",
              "        const dataTable =\n",
              "          await google.colab.kernel.invokeFunction('convertToInteractive',\n",
              "                                                    [key], {});\n",
              "        if (!dataTable) return;\n",
              "\n",
              "        const docLinkHtml = 'Like what you see? Visit the ' +\n",
              "          '<a target=\"_blank\" href=https://colab.research.google.com/notebooks/data_table.ipynb>data table notebook</a>'\n",
              "          + ' to learn more about interactive tables.';\n",
              "        element.innerHTML = '';\n",
              "        dataTable['output_type'] = 'display_data';\n",
              "        await google.colab.output.renderOutput(dataTable, element);\n",
              "        const docLink = document.createElement('div');\n",
              "        docLink.innerHTML = docLinkHtml;\n",
              "        element.appendChild(docLink);\n",
              "      }\n",
              "    </script>\n",
              "  </div>\n",
              "\n",
              "\n",
              "<div id=\"df-d63f417d-7b51-4584-be87-fe21cf031a26\">\n",
              "  <button class=\"colab-df-quickchart\" onclick=\"quickchart('df-d63f417d-7b51-4584-be87-fe21cf031a26')\"\n",
              "            title=\"Suggest charts\"\n",
              "            style=\"display:none;\">\n",
              "\n",
              "<svg xmlns=\"http://www.w3.org/2000/svg\" height=\"24px\"viewBox=\"0 0 24 24\"\n",
              "     width=\"24px\">\n",
              "    <g>\n",
              "        <path d=\"M19 3H5c-1.1 0-2 .9-2 2v14c0 1.1.9 2 2 2h14c1.1 0 2-.9 2-2V5c0-1.1-.9-2-2-2zM9 17H7v-7h2v7zm4 0h-2V7h2v10zm4 0h-2v-4h2v4z\"/>\n",
              "    </g>\n",
              "</svg>\n",
              "  </button>\n",
              "\n",
              "<style>\n",
              "  .colab-df-quickchart {\n",
              "      --bg-color: #E8F0FE;\n",
              "      --fill-color: #1967D2;\n",
              "      --hover-bg-color: #E2EBFA;\n",
              "      --hover-fill-color: #174EA6;\n",
              "      --disabled-fill-color: #AAA;\n",
              "      --disabled-bg-color: #DDD;\n",
              "  }\n",
              "\n",
              "  [theme=dark] .colab-df-quickchart {\n",
              "      --bg-color: #3B4455;\n",
              "      --fill-color: #D2E3FC;\n",
              "      --hover-bg-color: #434B5C;\n",
              "      --hover-fill-color: #FFFFFF;\n",
              "      --disabled-bg-color: #3B4455;\n",
              "      --disabled-fill-color: #666;\n",
              "  }\n",
              "\n",
              "  .colab-df-quickchart {\n",
              "    background-color: var(--bg-color);\n",
              "    border: none;\n",
              "    border-radius: 50%;\n",
              "    cursor: pointer;\n",
              "    display: none;\n",
              "    fill: var(--fill-color);\n",
              "    height: 32px;\n",
              "    padding: 0;\n",
              "    width: 32px;\n",
              "  }\n",
              "\n",
              "  .colab-df-quickchart:hover {\n",
              "    background-color: var(--hover-bg-color);\n",
              "    box-shadow: 0 1px 2px rgba(60, 64, 67, 0.3), 0 1px 3px 1px rgba(60, 64, 67, 0.15);\n",
              "    fill: var(--button-hover-fill-color);\n",
              "  }\n",
              "\n",
              "  .colab-df-quickchart-complete:disabled,\n",
              "  .colab-df-quickchart-complete:disabled:hover {\n",
              "    background-color: var(--disabled-bg-color);\n",
              "    fill: var(--disabled-fill-color);\n",
              "    box-shadow: none;\n",
              "  }\n",
              "\n",
              "  .colab-df-spinner {\n",
              "    border: 2px solid var(--fill-color);\n",
              "    border-color: transparent;\n",
              "    border-bottom-color: var(--fill-color);\n",
              "    animation:\n",
              "      spin 1s steps(1) infinite;\n",
              "  }\n",
              "\n",
              "  @keyframes spin {\n",
              "    0% {\n",
              "      border-color: transparent;\n",
              "      border-bottom-color: var(--fill-color);\n",
              "      border-left-color: var(--fill-color);\n",
              "    }\n",
              "    20% {\n",
              "      border-color: transparent;\n",
              "      border-left-color: var(--fill-color);\n",
              "      border-top-color: var(--fill-color);\n",
              "    }\n",
              "    30% {\n",
              "      border-color: transparent;\n",
              "      border-left-color: var(--fill-color);\n",
              "      border-top-color: var(--fill-color);\n",
              "      border-right-color: var(--fill-color);\n",
              "    }\n",
              "    40% {\n",
              "      border-color: transparent;\n",
              "      border-right-color: var(--fill-color);\n",
              "      border-top-color: var(--fill-color);\n",
              "    }\n",
              "    60% {\n",
              "      border-color: transparent;\n",
              "      border-right-color: var(--fill-color);\n",
              "    }\n",
              "    80% {\n",
              "      border-color: transparent;\n",
              "      border-right-color: var(--fill-color);\n",
              "      border-bottom-color: var(--fill-color);\n",
              "    }\n",
              "    90% {\n",
              "      border-color: transparent;\n",
              "      border-bottom-color: var(--fill-color);\n",
              "    }\n",
              "  }\n",
              "</style>\n",
              "\n",
              "  <script>\n",
              "    async function quickchart(key) {\n",
              "      const quickchartButtonEl =\n",
              "        document.querySelector('#' + key + ' button');\n",
              "      quickchartButtonEl.disabled = true;  // To prevent multiple clicks.\n",
              "      quickchartButtonEl.classList.add('colab-df-spinner');\n",
              "      try {\n",
              "        const charts = await google.colab.kernel.invokeFunction(\n",
              "            'suggestCharts', [key], {});\n",
              "      } catch (error) {\n",
              "        console.error('Error during call to suggestCharts:', error);\n",
              "      }\n",
              "      quickchartButtonEl.classList.remove('colab-df-spinner');\n",
              "      quickchartButtonEl.classList.add('colab-df-quickchart-complete');\n",
              "    }\n",
              "    (() => {\n",
              "      let quickchartButtonEl =\n",
              "        document.querySelector('#df-d63f417d-7b51-4584-be87-fe21cf031a26 button');\n",
              "      quickchartButtonEl.style.display =\n",
              "        google.colab.kernel.accessAllowed ? 'block' : 'none';\n",
              "    })();\n",
              "  </script>\n",
              "</div>\n",
              "\n",
              "  <div id=\"id_dc73a4fb-2913-47dc-bd8a-16d548ed2b9d\">\n",
              "    <style>\n",
              "      .colab-df-generate {\n",
              "        background-color: #E8F0FE;\n",
              "        border: none;\n",
              "        border-radius: 50%;\n",
              "        cursor: pointer;\n",
              "        display: none;\n",
              "        fill: #1967D2;\n",
              "        height: 32px;\n",
              "        padding: 0 0 0 0;\n",
              "        width: 32px;\n",
              "      }\n",
              "\n",
              "      .colab-df-generate:hover {\n",
              "        background-color: #E2EBFA;\n",
              "        box-shadow: 0px 1px 2px rgba(60, 64, 67, 0.3), 0px 1px 3px 1px rgba(60, 64, 67, 0.15);\n",
              "        fill: #174EA6;\n",
              "      }\n",
              "\n",
              "      [theme=dark] .colab-df-generate {\n",
              "        background-color: #3B4455;\n",
              "        fill: #D2E3FC;\n",
              "      }\n",
              "\n",
              "      [theme=dark] .colab-df-generate:hover {\n",
              "        background-color: #434B5C;\n",
              "        box-shadow: 0px 1px 3px 1px rgba(0, 0, 0, 0.15);\n",
              "        filter: drop-shadow(0px 1px 2px rgba(0, 0, 0, 0.3));\n",
              "        fill: #FFFFFF;\n",
              "      }\n",
              "    </style>\n",
              "    <button class=\"colab-df-generate\" onclick=\"generateWithVariable('dataset1')\"\n",
              "            title=\"Generate code using this dataframe.\"\n",
              "            style=\"display:none;\">\n",
              "\n",
              "  <svg xmlns=\"http://www.w3.org/2000/svg\" height=\"24px\"viewBox=\"0 0 24 24\"\n",
              "       width=\"24px\">\n",
              "    <path d=\"M7,19H8.4L18.45,9,17,7.55,7,17.6ZM5,21V16.75L18.45,3.32a2,2,0,0,1,2.83,0l1.4,1.43a1.91,1.91,0,0,1,.58,1.4,1.91,1.91,0,0,1-.58,1.4L9.25,21ZM18.45,9,17,7.55Zm-12,3A5.31,5.31,0,0,0,4.9,8.1,5.31,5.31,0,0,0,1,6.5,5.31,5.31,0,0,0,4.9,4.9,5.31,5.31,0,0,0,6.5,1,5.31,5.31,0,0,0,8.1,4.9,5.31,5.31,0,0,0,12,6.5,5.46,5.46,0,0,0,6.5,12Z\"/>\n",
              "  </svg>\n",
              "    </button>\n",
              "    <script>\n",
              "      (() => {\n",
              "      const buttonEl =\n",
              "        document.querySelector('#id_dc73a4fb-2913-47dc-bd8a-16d548ed2b9d button.colab-df-generate');\n",
              "      buttonEl.style.display =\n",
              "        google.colab.kernel.accessAllowed ? 'block' : 'none';\n",
              "\n",
              "      buttonEl.onclick = () => {\n",
              "        google.colab.notebook.generateWithVariable('dataset1');\n",
              "      }\n",
              "      })();\n",
              "    </script>\n",
              "  </div>\n",
              "\n",
              "    </div>\n",
              "  </div>\n"
            ],
            "application/vnd.google.colaboratory.intrinsic+json": {
              "type": "dataframe",
              "variable_name": "dataset1",
              "summary": "{\n  \"name\": \"dataset1\",\n  \"rows\": 14336,\n  \"fields\": [\n    {\n      \"column\": \"Label\",\n      \"properties\": {\n        \"dtype\": \"category\",\n        \"num_unique_values\": 4,\n        \"samples\": [\n          \"pozitif\",\n          \"n\\u00f6tr\",\n          \"negatif\"\n        ],\n        \"semantic_type\": \"\",\n        \"description\": \"\"\n      }\n    },\n    {\n      \"column\": \"Dosya Ad\\u0131\",\n      \"properties\": {\n        \"dtype\": \"category\",\n        \"num_unique_values\": 6671,\n        \"samples\": [\n          \"1215.txt\",\n          \"2391.txt\",\n          \"2611.txt\"\n        ],\n        \"semantic_type\": \"\",\n        \"description\": \"\"\n      }\n    },\n    {\n      \"column\": \"Ba\\u015fl\\u0131k\",\n      \"properties\": {\n        \"dtype\": \"string\",\n        \"num_unique_values\": 13792,\n        \"samples\": [\n          \"!f M\\u00fczik\\u2019li filmler festivali\",\n          \"Elektrik yok ara\\u00e7lar mahsur u\\u00e7u\\u015flar iptal\",\n          \"43 ya\\u015f\\u0131ndaki polis memuru kalp krizinden \\u00f6ld\\u00fc\"\n        ],\n        \"semantic_type\": \"\",\n        \"description\": \"\"\n      }\n    },\n    {\n      \"column\": \"\\u0130\\u00e7erik\",\n      \"properties\": {\n        \"dtype\": \"string\",\n        \"num_unique_values\": 13991,\n        \"samples\": [\n          \"karab\\u00fck'\\u00fcn safranbolu il\\u00e7esindeki demirciler \\u00e7ar\\u015f\\u0131s\\u0131nda uzun y\\u0131llar osmanl\\u0131 ordusu i\\u00e7in \\u00fcretilen k\\u0131l\\u0131\\u00e7, ok, g\\u00fcrz, balta, han\\u00e7er, kama, m\\u0131zrak, z\\u0131rh, mi\\u011ffer ve kalkan gibi silahlar \\u015fimdi turistler i\\u00e7in \\u00fcretiliyor.\\n\\nak\\u00e7asu deresi'nin iki yakas\\u0131na kurulu demirciler \\u00e7ar\\u015f\\u0131s\\u0131'ndaki demirci\\u00a0\\u00a0ustalar\\u0131, eskiden sava\\u015f alanlar\\u0131nda kullan\\u0131lan silahlar\\u0131 \\u015fimdi turistlerin\\u00a0\\u00a0memleketlerine d\\u00f6nerken yak\\u0131nlar\\u0131na ve arkada\\u015flar\\u0131na hediye etmesi i\\u00e7in\\u00a0\\u00a0yap\\u0131yorlar.\\u00a0 demircilik, 22 d\\u00fckkandan sadece 5'inde \\u00e7al\\u0131\\u015fan ustalar taraf\\u0131ndan\\u00a0\\u00a0ya\\u015fat\\u0131l\\u0131yor. babadan o\\u011fula miras kalarak g\\u00fcn\\u00fcm\\u00fcze kadar gelmi\\u015f.\\u00a0 \\u00a0demirci ustas\\u0131 kaz\\u0131m madeno\\u011flu, demirciler \\u00e7ar\\u015f\\u0131s\\u0131'nda 35 y\\u0131ld\\u0131r ate\\u015fin\\u00a0kar\\u015f\\u0131s\\u0131nda ter d\\u00f6kt\\u00fc\\u011f\\u00fcn\\u00fc, \\u00e7eki\\u00e7 seslerinin ge\\u00e7mi\\u015fte sava\\u015fta kullan\\u0131lacak silahlar\\u00a0\\u00a0i\\u00e7in \\u015fimdiyse hediyelik e\\u015fyalar i\\u00e7in yank\\u0131land\\u0131\\u011f\\u0131n\\u0131 s\\u00f6yledi.\\u00a01924'lerde bu meslekten ekmek yiyenlerin say\\u0131s\\u0131n\\u0131n 100'\\u00fc buldu\\u011funu ifade\\u00a0\\u00a0eden madeno\\u011flu, \\u015f\\u00f6yle konu\\u015ftu:'\\u015fimdi say\\u0131m\\u0131z 5'e d\\u00fc\\u015ft\\u00fc. o y\\u0131llarda safranbolu demirciler \\u00e7ar\\u015f\\u0131s\\u0131'nda\\u00a0\\u00a0hangi \\u00fcr\\u00fcnler yap\\u0131l\\u0131yorsa bug\\u00fcn de benzerleri, geli\\u015fmi\\u015f modelleri yap\\u0131labiliyor.\\u00a0\\u00a0safranbolu'da demircilik daha uzun y\\u0131llar varl\\u0131\\u011f\\u0131n\\u0131 s\\u00fcrd\\u00fcrecek. \\u00e7\\u00fcnk\\u00fc il\\u00e7edeki\\u00a0\\u00a0g\\u00fcndelik hayat\\u0131n demirciye ihtiyac\\u0131 var. demirciler \\u00e7ar\\u015f\\u0131s\\u0131'nda yeterinden fazla\\u00a0\\u00a0bulanabilen el yap\\u0131m\\u0131 \\u00fcr\\u00fcnler var. turistler her t\\u00fcrl\\u00fc hediyelikleri buradan\\u00a0\\u00a0alabiliyor. dedelerimiz osmanl\\u0131 ordusuna \\u00e7e\\u015fitli silahlar \\u00fcretmi\\u015f bu \\u00e7ar\\u015f\\u0131da. bu\\u00a0mesle\\u011fin devam\\u0131 olan biz torunlar\\u0131 da \\u015fimdi bu silahlardan \\u00fcretiyoruz. \\u00e7\\u00fcnk\\u00fc\\u00a0\\u00a0turistler \\u00fcretti\\u011fimiz k\\u0131l\\u0131\\u00e7, ok, g\\u00fcrz, balta, han\\u00e7er, kama, m\\u0131zrak, z\\u0131rh, mi\\u011ffer\\u00a0ve kalkan gibi silahlar\\u0131 hat\\u0131ra olsun diye sat\\u0131n al\\u0131yor. bu sayede varl\\u0131\\u011f\\u0131m\\u0131z\\u0131 da\\u00a0s\\u00fcrd\\u00fcr\\u00fcyoruz.'\\u00a0 \\u00a0 \\n\\u00a0 \\u00a0 \\u00a0 \\u00a0tarihi yap\\u0131lar\\u0131n vazge\\u00e7ilmezleri\\u00a0 \\u00a0 \\ni\\u0307l\\u00e7edeki 3 bin y\\u0131ll\\u0131k ge\\u00e7mi\\u015fe sahip tarihi evlerin restorasyonlar\\u0131nda\\u00a0kullan\\u0131lan baz\\u0131 aksamlar\\u0131 da \\u00fcrettiklerini belirten madeno\\u011flu, \\u015f\\u00f6yle devam\\u00a0etti:'tarihi evlerin yap\\u0131m\\u0131nda kullan\\u0131lan ve vazge\\u00e7ilmez olan kap\\u0131 kilidi,\\u00a0\\u00a0kap\\u0131 g\\u00f6be\\u011fi, kap\\u0131 tokma\\u011f\\u0131, kap\\u0131 g\\u00fcllab\\u0131, kabara \\u00e7ivisi, mente\\u015fe, kap\\u0131 ve pencere\\u00a0\\u00a0i\\u00e7in gerekli b\\u00fct\\u00fcn metal aksamlar\\u0131 \\u00fcretiyoruz. ayr\\u0131ca \\u00e7evredeki k\\u00f6ylerin ve\\u00a0\\u00a0k\\u00f6yl\\u00fclerin ihtiyac\\u0131 olan t\\u0131rpan, orak, kazma, k\\u00fcrek, balta ve t\\u0131rm\\u0131k gibi tar\\u0131m\\u00a0\\u00a0aletlerini de \\u00fcretiyoruz.'\",\n          \"gaziantep \\u00f6zel sani konuko\\u011flu hastanesi psikolo\\u011fu pelin \\u00f6zufac\\u0131k, fazla s\\u0131nav kayg\\u0131s\\u0131n\\u0131n \\u00f6\\u011frencinin ba\\u015far\\u0131s\\u0131n\\u0131 olumsuz etkiledi\\u011fini belirtti. pelin \\u00f6zufac\\u0131k, \\\"ba\\u015far\\u0131ya ula\\u015fmak i\\u00e7in \\u00f6ncelikle yap\\u0131lmas\\u0131 gereken, bilgi donan\\u0131m\\u0131n\\u0131 daha iyi bir hale getirmektir.' dedi.\\npsikolog pelin \\u00f6zufac\\u0131k, ailelerin, \\u00e7ocuklar\\u0131n s\\u0131nav kar\\u015f\\u0131s\\u0131nda duyduklar\\u0131 kayg\\u0131lar\\u0131 en aza indirmek i\\u00e7in \\u00f6ncelikle s\\u0131navla ilgili kendi duygular\\u0131n\\u0131 tan\\u0131y\\u0131p, kontrol etmesi gerekti\\u011fini s\\u00f6yledi. ailelerin \\u00e7ocuklar i\\u00e7in daima bir model te\\u015fkil etti\\u011fini dile getiren \\u00f6zufac\\u0131k, ailenin s\\u0131nava kar\\u015f\\u0131 olan yakla\\u015f\\u0131m\\u0131, \\u00e7ocuklar\\u0131n da duygu durumunu etkiledi\\u011fini ifade etti. \\ns\\u0131nav kayg\\u0131s\\u0131n\\u0131n bir miktar varl\\u0131\\u011f\\u0131n\\u0131n \\u00f6\\u011frenci i\\u00e7in olumlu i\\u015flev g\\u00f6sterirken fazlas\\u0131n\\u0131n \\u00f6\\u011frencinin ba\\u015far\\u0131s\\u0131n\\u0131 olumsuz etkiledi\\u011fini anlatan \\u00f6zufac\\u0131k, \\\"s\\u0131nav kayg\\u0131s\\u0131 bir\\u00e7ok bile\\u015fenin bir sonucudur. s\\u0131nava girecek ki\\u015finin ya da etraf\\u0131ndaki insanlar\\u0131n beklentileri ki\\u015finin bilgi d\\u00fczeyinden y\\u00fcksekse s\\u0131nav kayg\\u0131s\\u0131 olumsuz bir i\\u015flev kazanmaya ba\\u015flayabilir. di\\u011fer bir unsur ise s\\u0131nava y\\u00fcklenen anlamd\\u0131r.\\\" diye konu\\u015ftu.\\nkayg\\u0131n\\u0131n en basit sebebinin, \\u00f6\\u011frencinin 's\\u0131nava yeterince haz\\u0131rlanmad\\u0131\\u011f\\u0131 veya bilgisinin yeterlili\\u011fine inanmad\\u0131\\u011f\\u0131' d\\u00fc\\u015f\\u00fcncesi oldu\\u011funu ifade eden \\u00f6zufac\\u0131k, \\u015funlar\\u0131 kaydetti: \\\"bu durumda s\\u0131nava girdi\\u011finde, bildiklerini tam kullanamad\\u0131\\u011f\\u0131 i\\u00e7in heyecanlan\\u0131r, dikkati da\\u011f\\u0131l\\u0131r, s\\u00fcreyi iyi bir \\u015fekilde kullanamaz ve sonucunda ba\\u015far\\u0131s\\u0131zl\\u0131\\u011f\\u0131n sebebini ya s\\u0131nav kayg\\u0131s\\u0131na ya da di\\u011fer d\\u0131\\u015f etkenlere ba\\u011flar.\\\" \\nba\\u015far\\u0131ya ula\\u015fmak i\\u00e7in \\u00f6ncelikle yap\\u0131lmas\\u0131 gerekenin, bilgi donan\\u0131m\\u0131n\\u0131 daha iyi bir hale getirmek oldu\\u011funa i\\u015faret eden \\u00f6zufac\\u0131k, performans\\u0131 d\\u00fc\\u015fen \\u00e7ocu\\u011fun ya\\u015fad\\u0131\\u011f\\u0131 aile ve \\u00e7evre sorunlar\\u0131, duygusal sorunlar, dikkat eksikli\\u011fi-hiperaktivite, \\u00f6\\u011frenme bozukluklar\\u0131, motivasyon sorunlar\\u0131 gibi di\\u011fer etkenlerin de de\\u011ferlendirilmesi gerekti\\u011fini belirtti. sorunun temelini anlamada ailenin g\\u00f6zleminin \\u00e7ok \\u00f6nemli oldu\\u011funu dile getiren \\u00f6zufac\\u0131k, \\u015fu a\\u00e7\\u0131klamalarda bulundu: \\\"sorun ne kadar erken anla\\u015f\\u0131l\\u0131rsa ba\\u015far\\u0131ya ula\\u015fmakta o kadar kolay olacakt\\u0131r. yakla\\u015fan s\\u0131nav\\u0131n bu son haftalar\\u0131nda \\u00f6\\u011frenciler kendini son kez de\\u011ferlendirmeli ve s\\u0131nava kendi ba\\u015far\\u0131lar\\u0131n\\u0131n, eksikliklerinin fark\\u0131nda olarak girmelidir. yapabildiklerimizi g\\u00f6rebildi\\u011fimizde kendimizden y\\u00fcksek beklentiler i\\u00e7ine de girmeden, kayg\\u0131lar\\u0131 daha az bir \\u015fekilde, s\\u0131navda ba\\u015far\\u0131l\\u0131 olmam\\u0131z m\\u00fcmk\\u00fcnd\\u00fcr.\\\"\",\n          \"chp lideri, fransa'da 3 pkk'l\\u0131 kad\\u0131n\\u0131n \\u00f6ld\\u00fcr\\u00fclmesini \\u00e7in yolunda de\\u011ferlendirirken, 'bu s\\u00fcre\\u00e7 kendi i\\u00e7inde geli\\u015fmeli. i\\u0307nfaz oldu, s\\u00fcre\\u00e7 aksad\\u0131 diye bakmak do\\u011fru de\\u011fil' dedi\\n \\u00e7i\\u011fdem toker / peki\\u0307n\\n chp genel ba\\u015fkan\\u0131 kemal k\\u0131l\\u0131\\u00e7daro\\u011flu, paris'teki suikast olay\\u0131n\\u0131 dikkatle izlediklerini 'hem i\\u00e7eriden hem de d\\u0131\\u015far\\u0131dan bilgi ald\\u0131klar\\u0131n\\u0131', olay\\u0131n ayd\\u0131nlat\\u0131lmas\\u0131nda as\\u0131l g\\u00f6revin frans\\u0131z h\\u00fck\\u00fcmetine d\\u00fc\\u015ft\\u00fc\\u011f\\u00fcn\\u00fc s\\u00f6yledi.\\n k\\u0131l\\u0131\\u00e7daro\\u011flu, \\u00e7in kom\\u00fcnist partisi'nin (\\u00e7kp) daveti \\u00fczerine, bu \\u00fclkeye d\\u00fczenledi\\u011fi be\\u015f g\\u00fcnl\\u00fck resmi seyahate ba\\u015flad\\u0131. chp lideri, pekin yolunda g\\u00fcndeme dair sorular\\u0131m\\u0131z\\u0131 yan\\u0131tlad\\u0131. i\\u0307\\u015fte mesajlar\\u0131ndan \\u00f6ne \\u00e7\\u0131kanlar:\\n \\n s\\u00fcre\\u00e7 aksadi di\\u0307ye bakmamali : (i\\u0307mral\\u0131 s\\u00fcrecini etkiler mi?) hangi gerek\\u00e7eyle bu infaz yap\\u0131ld\\u0131 bunun ortaya \\u00e7\\u0131kmas\\u0131 gerekiyor. bu s\\u00fcre\\u00e7 kendi i\\u00e7inde geli\\u015fmeli. bir yerde infaz oldu s\\u00fcre\\u00e7 aksad\\u0131 diye bakmak do\\u011fru de\\u011fil. h\\u00fck\\u00fcmetin kararl\\u0131l\\u0131\\u011f\\u0131 varsa s\\u00fcre\\u00e7 kendi i\\u00e7inde y\\u00fcr\\u00fcmeli. \\n \\n ba\\u015fbakan'in tavri \\u015fa\\u015firtti: (kredi a\\u00e7ma polemi\\u011fi) say\\u0131n ba\\u015fbakan'\\u0131n tavr\\u0131 do\\u011frusu bende \\u015fa\\u015fk\\u0131nl\\u0131k yaratt\\u0131. t\\u00fcrkiye'nin en temel sorununu \\u00e7\\u00f6zme konusunda, muhalefet partisinin olumlu yakla\\u015f\\u0131m\\u0131na olumsuz tepki vermek, sorunu \\u00e7\\u00f6zmemek gibi bir iradeyi dolayl\\u0131 yoldan ortaya koymak anlam\\u0131na geliyor. bu nedenle s\\u00fcreci b\\u00fcy\\u00fck bir dikkatle takip edece\\u011fiz. \\n \\n chp sorumlulu\\u011funun bi\\u0307li\\u0307nci\\u0307nde: her toplumun ya\\u015fad\\u0131\\u011f\\u0131 sorunlardan kurtulmas\\u0131 laz\\u0131m. sorun kronikle\\u015ftik\\u00e7e, yay\\u0131ld\\u0131\\u011f\\u0131 alan \\u00fclke s\\u0131n\\u0131rlar\\u0131n\\u0131 da a\\u015fabiliyor. bir sorun 30 y\\u0131ld\\u0131r \\u00e7\\u00f6z\\u00fclemiyorsa, herkesin sorumluluk \\u00fcstlenmesi gerekiyor. chp olarak bu sorumlulu\\u011fun bilincinde hareket ediyoruz. \\u00e7\\u00f6z\\u00fclmesine katk\\u0131 vermek istiyoruz. 'niye \\u00e7\\u00f6z\\u00fcyorsunuz?' diye tepki g\\u00f6stermenin hi\\u00e7bir anlam\\u0131 yok. \\n \\n katki bekli\\u0307yorsaniz bi\\u0307lgi\\u0307 veri\\u0307n: i\\u0307lla 'gelin bize bilgi verin' diye bir talebimiz yok. e\\u011fer chp'den \\u00e7\\u00f6z\\u00fcm i\\u00e7in katk\\u0131 bekliyorsan\\u0131z ana muhalefet partisine gelin bilgi verin. bize \\u015fart de\\u011fil, parlamento'ya da bilgi verebilirler. mesele \\u015fu: \\u00e7\\u00f6z\\u00fcm i\\u00e7in toplumsal uzla\\u015fma ar\\u0131yor musunuz aram\\u0131yor musunuz? \\n \\n \\u00e7\\u00f6z\\u00fcm yakin g\\u00f6r\\u00fcnm\\u00fcyor: (s\\u00fcre\\u00e7ten umutlu musunuz?) herhalde bir g\\u00fcn bu sorunu \\u00e7\\u00f6zece\\u011fiz. ancak ben bunun yak\\u0131nda oldu\\u011funa ihtimal vermiyorum. nedeni de h\\u00fck\\u00fcmetin bu konuda bir stratejisinin olmamas\\u0131. h\\u00fck\\u00fcmet 'sorunu \\u00e7\\u00f6zece\\u011fim' diyor. \\u00e7\\u00f6zecekse memnuniyet duyar\\u0131z. \\n \\n bek\\u00e7i\\u0307 karde\\u015fi\\u0307 i\\u0307\\u00e7i\\u0307n: aman bu i\\u015fe hi\\u00e7 sokmay\\u0131n. \\u00e7al\\u0131\\u015f\\u0131yor adamca\\u011f\\u0131z, emekli zaten.\\n a\\u011fz\\u0131ndan \\u00e7\\u0131kan\\u0131 d\\u00fc\\u015f\\u00fcn, \\u00f6yle konu\\u015f\\n chp lideri, ba\\u015fbakan erdo\\u011fan'\\u0131n, fransa cumhurba\\u015fkan\\u0131'na 'ter\\u00f6ristlerle niye g\\u00f6r\\u00fc\\u015f\\u00fcyorsun?' sorusunun hat\\u0131rlat\\u0131lmas\\u0131 \\u00fczerine, \\u015fu yorumu yapt\\u0131:\\u00a0 aziz nesin ya\\u015fasayd\\u0131 g\\u00fczel bir yan\\u0131t verirdi. o da yar\\u0131n sormaz m\\u0131, 'sen kiminle g\\u00f6r\\u00fc\\u015f\\u00fcyorsun?' diye. a\\u011fz\\u0131n\\u0131zdan \\u00e7\\u0131kan\\u0131 d\\u00fc\\u015f\\u00fcnerek konu\\u015facaks\\u0131n\\u0131z. bir eylemde bulunuyorsunuz, g\\u00f6r\\u00fc\\u015fmeler s\\u00fcrd\\u00fcr\\u00fcyorsunuz. sonra da bu tarafa d\\u00f6n\\u00fcp diyorsunuz ki, ne g\\u00f6r\\u00fc\\u015f\\u00fcyorsunuz. siz ne g\\u00f6r\\u00fc\\u015f\\u00fcyorsunuz diye sorarlarsa ne cevap vereceksin say\\u0131n recep tayyip erdo\\u011fan?'\\n ejderhal\\u0131 kar\\u015f\\u0131lama\\n chp lideri ve beraberindeki heyeti pekin havaliman\\u0131'nda \\u00e7in kom\\u00fcnist partisi yetkilileri kar\\u015f\\u0131lad\\u0131. \\u00e7in takvimine g\\u00f6re \\u00f6n\\u00fcm\\u00fczdeki hafta ejderha y\\u0131l\\u0131na girilecek. salondaki hal\\u0131da ejderha motifi dikkat \\u00e7ekti.\"\n        ],\n        \"semantic_type\": \"\",\n        \"description\": \"\"\n      }\n    },\n    {\n      \"column\": \"label_id\",\n      \"properties\": {\n        \"dtype\": \"number\",\n        \"std\": 1,\n        \"min\": 0,\n        \"max\": 3,\n        \"num_unique_values\": 4,\n        \"samples\": [\n          0,\n          2,\n          1\n        ],\n        \"semantic_type\": \"\",\n        \"description\": \"\"\n      }\n    }\n  ]\n}"
            }
          },
          "metadata": {},
          "execution_count": 16
        }
      ],
      "source": [
        "dataset1"
      ]
    },
    {
      "cell_type": "markdown",
      "metadata": {
        "id": "zXaz8PL6Oc_R"
      },
      "source": [
        "##Tokanizasyon"
      ]
    },
    {
      "cell_type": "code",
      "execution_count": null,
      "metadata": {
        "id": "BDmCjT7c6kDW"
      },
      "outputs": [],
      "source": [
        "from typing import List, Tuple, Union\n",
        "# Özel kelime tokenizasyon fonksiyonu\n",
        "def word_tokenize(sentence: str, word_regex: re.Pattern) -> Tuple:\n",
        "    try:\n",
        "        words: Union[List] = word_regex.findall(sentence)\n",
        "    except (re.error, TypeError):\n",
        "        return ()\n",
        "    else:\n",
        "        words: Union[Tuple] = tuple(words)\n",
        "        if words:\n",
        "            end_dots = re.search(r'\\b(\\.+)$', words[-1])\n",
        "            if end_dots:\n",
        "                dots: str = end_dots.group(1)\n",
        "                words = words[:-1] + (words[-1][:-len(dots)],) + (dots,)\n",
        "        return words\n",
        "\n",
        "# Basit kelime tokenizasyon deseni için regex deseni oluştur\n",
        "word_regex = re.compile(r'\\b\\w+\\b')"
      ]
    },
    {
      "cell_type": "code",
      "execution_count": null,
      "metadata": {
        "colab": {
          "base_uri": "https://localhost:8080/"
        },
        "id": "h48Ufco9OxM0",
        "outputId": "1c02640d-8df9-4c6f-8fd6-e3f8136f3e61"
      },
      "outputs": [
        {
          "output_type": "stream",
          "name": "stdout",
          "text": [
            "Tokenizasyon tamamlandı.\n"
          ]
        },
        {
          "output_type": "stream",
          "name": "stderr",
          "text": [
            "<ipython-input-18-4f357aae0495>:4: SettingWithCopyWarning: \n",
            "A value is trying to be set on a copy of a slice from a DataFrame.\n",
            "Try using .loc[row_indexer,col_indexer] = value instead\n",
            "\n",
            "See the caveats in the documentation: https://pandas.pydata.org/pandas-docs/stable/user_guide/indexing.html#returning-a-view-versus-a-copy\n",
            "  dataset1['Tokenized_İçerik'] = dataset1['İçerik'].apply(lambda x: word_tokenize(str(x), word_regex) if pd.notna(x) else '')\n"
          ]
        }
      ],
      "source": [
        "# \"İçerik\" sütununun var olup olmadığını kontrol et\n",
        "if \"İçerik\" in dataset1.columns:\n",
        "    # \"İçerik\" sütunundaki her hücreyi özel word_tokenize fonksiyonunu kullanarak tokenle\n",
        "    dataset1['Tokenized_İçerik'] = dataset1['İçerik'].apply(lambda x: word_tokenize(str(x), word_regex) if pd.notna(x) else '')\n",
        "    print(\"Tokenizasyon tamamlandı.\")\n",
        "else:\n",
        "    print(\"excel dosyasında 'İçerik' sütunu bulunamadı.\")"
      ]
    },
    {
      "cell_type": "code",
      "execution_count": null,
      "metadata": {
        "id": "-ccrLL956tGr"
      },
      "outputs": [],
      "source": [
        "# Noktalama işaretlerini kaldırma fonksiyonu\n",
        "def remove_punctuations(cell):\n",
        "    if isinstance(cell, str):\n",
        "        return re.sub(r'[.,!?;:\\'\"]', '', cell)\n",
        "    return cell"
      ]
    },
    {
      "cell_type": "code",
      "execution_count": null,
      "metadata": {
        "colab": {
          "base_uri": "https://localhost:8080/"
        },
        "id": "_rimAWbE6w5v",
        "outputId": "223d819a-7c4a-44c6-962f-a55cb93b3014"
      },
      "outputs": [
        {
          "output_type": "stream",
          "name": "stderr",
          "text": [
            "<ipython-input-20-80dc00dd404a>:2: FutureWarning: DataFrame.applymap has been deprecated. Use DataFrame.map instead.\n",
            "  dataset_temiz = dataset1.applymap(remove_punctuations)\n"
          ]
        }
      ],
      "source": [
        "# Noktalama işaretlerini kaldırma fonksiyonunu DataFrame'in her hücresine uygula\n",
        "dataset_temiz = dataset1.applymap(remove_punctuations)"
      ]
    },
    {
      "cell_type": "code",
      "source": [
        "!pip install unidecode"
      ],
      "metadata": {
        "colab": {
          "base_uri": "https://localhost:8080/"
        },
        "id": "fx_0d4-F86wb",
        "outputId": "0ca3ea3b-148f-4767-dfd5-dbcca49af308"
      },
      "execution_count": null,
      "outputs": [
        {
          "output_type": "stream",
          "name": "stdout",
          "text": [
            "Collecting unidecode\n",
            "  Downloading Unidecode-1.3.8-py3-none-any.whl.metadata (13 kB)\n",
            "Downloading Unidecode-1.3.8-py3-none-any.whl (235 kB)\n",
            "\u001b[?25l   \u001b[90m━━━━━━━━━━━━━━━━━━━━━━━━━━━━━━━━━━━━━━━━\u001b[0m \u001b[32m0.0/235.5 kB\u001b[0m \u001b[31m?\u001b[0m eta \u001b[36m-:--:--\u001b[0m\r\u001b[2K   \u001b[90m━━━━━━━━━━━━━━━━━━━━━━━━━━━━━━━━━━━━━━━━\u001b[0m \u001b[32m235.5/235.5 kB\u001b[0m \u001b[31m19.1 MB/s\u001b[0m eta \u001b[36m0:00:00\u001b[0m\n",
            "\u001b[?25hInstalling collected packages: unidecode\n",
            "Successfully installed unidecode-1.3.8\n"
          ]
        }
      ]
    },
    {
      "cell_type": "code",
      "execution_count": null,
      "metadata": {
        "id": "LQ_ZVfA261KM"
      },
      "outputs": [],
      "source": [
        "from unidecode import unidecode\n",
        "# Metin işleme fonksiyonu\n",
        "def process_text(text):\n",
        "    # 1. Metni küçük harfe dönüştür\n",
        "    text = text.lower()\n",
        "    # 2. Aksanlı karakterleri standartlaştır\n",
        "    text = unidecode(text)\n",
        "    # 4. Bahsetmelerin ve hashtaglerin kaldırılması\n",
        "    text = re.sub(r'@\\w+', '', text)  # Bahsetmeleri kaldır\n",
        "    text = re.sub(r'#\\w+', '', text)  # Hashtagleri kaldır\n",
        "    # 5. Özel karakterlerin kaldırılması\n",
        "    text = re.sub(r'[^\\w\\s]', '', text)  # Özel karakterleri kaldır\n",
        "    return text"
      ]
    },
    {
      "cell_type": "code",
      "execution_count": null,
      "metadata": {
        "id": "t2-QFDcH7IpY"
      },
      "outputs": [],
      "source": [
        "# Define Turkish stop words manually\n",
        "turkish_stop_words = set([\n",
        "    'a', 'ama', 'ancak', 'araba', 'bana', 'bazen', 'belki', 'bir', 'bu', 'bunu', 'her', 'hiç',\n",
        "    'için', 'ile', 'önce', 've', 'veya', 'çok', 'da', 'de', 'diğer', 'daha', 'ne', 'niçin',\n",
        "    'sadece', 'şu', 'şuna', 'şunu', 'şöyle', 'herhangi', 'nasıl', 'şey', 'veya'\n",
        "])\n",
        "\n",
        "# Stop words kaldıran fonksiyon\n",
        "def remove_stop_words(text):\n",
        "    words = text.split()\n",
        "    filtered_words = [word for word in words if word.lower() not in turkish_stop_words]\n",
        "    return ' '.join(filtered_words)\n",
        "\n",
        "Tokenized_İçerik = remove_stop_words('Tokenized_İçerik')"
      ]
    },
    {
      "cell_type": "code",
      "execution_count": null,
      "metadata": {
        "id": "k36rrkx47N_9"
      },
      "outputs": [],
      "source": [
        "# Örnek Türkçe bağlaçlar listesi (gerçek bir liste kullanmalısınız)\n",
        "turkish_conjunctions = set([\n",
        "    've', 'veya', 'ama', 'da', 'de', 'ile', 'mi', 'mı', 'mu', 'mü', 'ki', 'gibi', 'nin'\n",
        "    # Gerçek listeyi TÜBİTAK NLP'den veya diğer kaynaklardan temin edin\n",
        "])\n",
        "\n",
        "# Bağlaçları kaldıran fonksiyonu güncelle\n",
        "def remove_conjunctions_from_tokens(tokens):\n",
        "    filtered_tokens = [token for token in tokens if token not in turkish_conjunctions]\n",
        "    return filtered_tokens\n",
        "\n",
        "dataset_temiz['Tokenized_İçerik'] = dataset_temiz['Tokenized_İçerik'].apply(remove_conjunctions_from_tokens)"
      ]
    },
    {
      "cell_type": "markdown",
      "metadata": {
        "id": "T4EewHM867x7"
      },
      "source": [
        "##Model"
      ]
    },
    {
      "cell_type": "code",
      "execution_count": null,
      "metadata": {
        "id": "a4HmIbb7PsVF"
      },
      "outputs": [],
      "source": [
        "from sklearn.model_selection import train_test_split\n",
        "# Eğitim ve test setlerine böl\n",
        "train_data, test_data = train_test_split(dataset_temiz, test_size=0.2, random_state=42)"
      ]
    },
    {
      "cell_type": "markdown",
      "metadata": {
        "id": "XWeAb4o_57Yr"
      },
      "source": []
    },
    {
      "cell_type": "code",
      "execution_count": null,
      "metadata": {
        "colab": {
          "base_uri": "https://localhost:8080/"
        },
        "id": "cElCzmuLPu2R",
        "outputId": "95f3d0d3-e7b7-4f37-9a77-3075b03ab047"
      },
      "outputs": [
        {
          "output_type": "stream",
          "name": "stdout",
          "text": [
            "Eğitim seti boyutu: 11468\n",
            "Test seti boyutu: 2868\n"
          ]
        }
      ],
      "source": [
        "print(\"Eğitim seti boyutu:\", len(train_data))\n",
        "print(\"Test seti boyutu:\", len(test_data))"
      ]
    },
    {
      "cell_type": "code",
      "execution_count": null,
      "metadata": {
        "colab": {
          "base_uri": "https://localhost:8080/"
        },
        "id": "5K-V6txCV4jJ",
        "outputId": "d1e9eda0-5c6b-4437-8477-2aab0decc54e"
      },
      "outputs": [
        {
          "output_type": "stream",
          "name": "stderr",
          "text": [
            "/usr/local/lib/python3.10/dist-packages/huggingface_hub/utils/_token.py:89: UserWarning: \n",
            "The secret `HF_TOKEN` does not exist in your Colab secrets.\n",
            "To authenticate with the Hugging Face Hub, create a token in your settings tab (https://huggingface.co/settings/tokens), set it as secret in your Google Colab and restart your session.\n",
            "You will be able to reuse this secret in all of your notebooks.\n",
            "Please note that authentication is recommended but still optional to access public models or datasets.\n",
            "  warnings.warn(\n"
          ]
        }
      ],
      "source": [
        "# BERT tokenizasyonu için tokenizer'ı yükle\n",
        "tokenizer = BertTokenizer.from_pretrained('dbmdz/bert-base-turkish-128k-cased')"
      ]
    },
    {
      "cell_type": "code",
      "execution_count": null,
      "metadata": {
        "id": "MDE1Rwx8_e_m"
      },
      "outputs": [],
      "source": [
        "# recommended learning rate for Adam 5e-5, 3e-5, 2e-5\n",
        "learning_rate = 3e-5"
      ]
    },
    {
      "cell_type": "code",
      "execution_count": null,
      "metadata": {
        "id": "ktkSNJMcAAn0"
      },
      "outputs": [],
      "source": [
        "# choosing Adam optimizer\n",
        "optimizer = tf.keras.optimizers.Adam(learning_rate=learning_rate, epsilon=1e-08)"
      ]
    },
    {
      "cell_type": "code",
      "execution_count": null,
      "metadata": {
        "id": "BXrSUf0Q_jO9"
      },
      "outputs": [],
      "source": [
        "# we do not have one-hot vectors, we can use sparce categorical cross entropy and accuracy\n",
        "loss = tf.keras.losses.SparseCategoricalCrossentropy(from_logits=True)\n",
        "metric = tf.keras.metrics.SparseCategoricalAccuracy('val_accuracy')\n",
        "datamin_callbacks = [\n",
        "    tf.keras.callbacks.EarlyStopping(monitor='val_loss', patience=3),\n",
        "    tf.keras.callbacks.ReduceLROnPlateau(monitor='val_loss', factor=0.1, patience=2),\n",
        "    tf.keras.callbacks.ModelCheckpoint(filepath='/content/model1.h5'),\n",
        "]"
      ]
    },
    {
      "cell_type": "code",
      "execution_count": null,
      "metadata": {
        "colab": {
          "base_uri": "https://localhost:8080/"
        },
        "id": "CncWZn7CCQId",
        "outputId": "d1bea174-73a5-4464-e008-ed2a4c7b2e75"
      },
      "outputs": [
        {
          "output_type": "stream",
          "name": "stderr",
          "text": [
            "All model checkpoint layers were used when initializing TFBertForSequenceClassification.\n",
            "\n",
            "Some layers of TFBertForSequenceClassification were not initialized from the model checkpoint at dbmdz/bert-base-turkish-128k-cased and are newly initialized: ['classifier']\n",
            "You should probably TRAIN this model on a down-stream task to be able to use it for predictions and inference.\n"
          ]
        }
      ],
      "source": [
        "import pandas as pd\n",
        "import tensorflow as tf\n",
        "from transformers import BertTokenizer, TFBertForSequenceClassification\n",
        "from sklearn.model_selection import train_test_split\n",
        "\n",
        "# Tokenizer ve model yükle\n",
        "tokenizer = BertTokenizer.from_pretrained('dbmdz/bert-base-turkish-128k-cased')\n",
        "model = TFBertForSequenceClassification.from_pretrained('dbmdz/bert-base-turkish-128k-cased', num_labels=4)  # 4 etiketli sınıflandırma\n",
        "\n",
        "# Veriyi oku\n",
        "df = dataset_temiz\n",
        "\n",
        "# Eğitim ve test setlerine ayır\n",
        "train_df, val_df = train_test_split(df, test_size=0.2, random_state=42)\n",
        "\n",
        "# Tokenizasyon fonksiyonu\n",
        "def tokenize_function(texts):\n",
        "    return tokenizer(texts, padding='max_length', truncation=True, max_length=128, return_tensors='tf')\n",
        "\n",
        "# TensorFlow veri kümesi oluşturma\n",
        "def create_tf_dataset(df):\n",
        "    encodings = tokenize_function(df['İçerik'].tolist())\n",
        "    labels = df['label_id'].tolist()\n",
        "    dataset = tf.data.Dataset.from_tensor_slices((dict(encodings), labels))\n",
        "    dataset = dataset.shuffle(len(df)).batch(8)  # Batch size\n",
        "    return dataset\n",
        "\n",
        "train_dataset = create_tf_dataset(train_df)\n",
        "val_dataset = create_tf_dataset(val_df)\n"
      ]
    },
    {
      "cell_type": "code",
      "execution_count": null,
      "metadata": {
        "colab": {
          "base_uri": "https://localhost:8080/"
        },
        "id": "3-iIcDUwEMup",
        "outputId": "6d431678-e15b-4f10-fd3d-d8362aa18363"
      },
      "outputs": [
        {
          "output_type": "stream",
          "name": "stdout",
          "text": [
            "Epoch 1/30\n",
            "1434/1434 [==============================] - 184s 99ms/step - loss: 1.2265 - accuracy: 0.4360 - val_loss: 1.0665 - val_accuracy: 0.5453 - lr: 1.0000e-05\n",
            "Epoch 2/30\n",
            "1434/1434 [==============================] - 128s 89ms/step - loss: 0.9897 - accuracy: 0.5845 - val_loss: 0.9238 - val_accuracy: 0.6419 - lr: 1.0000e-05\n",
            "Epoch 3/30\n",
            "1434/1434 [==============================] - 127s 89ms/step - loss: 0.8648 - accuracy: 0.6507 - val_loss: 0.9279 - val_accuracy: 0.6294 - lr: 1.0000e-05\n",
            "Epoch 4/30\n",
            "1434/1434 [==============================] - 126s 88ms/step - loss: 0.7413 - accuracy: 0.7056 - val_loss: 0.9013 - val_accuracy: 0.6419 - lr: 1.0000e-05\n",
            "Epoch 5/30\n",
            "1434/1434 [==============================] - 127s 89ms/step - loss: 0.6328 - accuracy: 0.7558 - val_loss: 0.9982 - val_accuracy: 0.6419 - lr: 1.0000e-05\n",
            "Epoch 6/30\n",
            "1434/1434 [==============================] - 127s 89ms/step - loss: 0.5186 - accuracy: 0.8075 - val_loss: 1.1206 - val_accuracy: 0.6276 - lr: 1.0000e-05\n",
            "Epoch 7/30\n",
            "1434/1434 [==============================] - 131s 91ms/step - loss: 0.4048 - accuracy: 0.8539 - val_loss: 1.2861 - val_accuracy: 0.6109 - lr: 1.0000e-05\n",
            "Epoch 8/30\n",
            "1434/1434 [==============================] - 132s 92ms/step - loss: 0.2479 - accuracy: 0.9182 - val_loss: 1.3459 - val_accuracy: 0.6091 - lr: 1.0000e-06\n",
            "Epoch 9/30\n",
            "1434/1434 [==============================] - 131s 92ms/step - loss: 0.2133 - accuracy: 0.9305 - val_loss: 1.4115 - val_accuracy: 0.6109 - lr: 1.0000e-06\n"
          ]
        }
      ],
      "source": [
        "# Model ve optimizer tanımlama\n",
        "optimizer = tf.keras.optimizers.Adam(learning_rate=1e-5)\n",
        "loss = tf.keras.losses.SparseCategoricalCrossentropy(from_logits=True)\n",
        "metric = tf.keras.metrics.SparseCategoricalAccuracy('accuracy')\n",
        "\n",
        "# Modeli derleme\n",
        "model.compile(optimizer=optimizer, loss=loss, metrics=[metric])\n",
        "\n",
        "# Modeli eğitme\n",
        "bert_history = model.fit(\n",
        "    train_dataset,\n",
        "    batch_size=16,\n",
        "    epochs=30,\n",
        "    validation_data=val_dataset,\n",
        "    callbacks=[\n",
        "        tf.keras.callbacks.EarlyStopping(monitor='val_loss', patience=5),\n",
        "        tf.keras.callbacks.ReduceLROnPlateau(monitor='val_loss', factor=0.1, patience=3)\n",
        "    ]\n",
        ")"
      ]
    },
    {
      "cell_type": "code",
      "execution_count": null,
      "metadata": {
        "id": "cG1YTJj6YB5q"
      },
      "outputs": [],
      "source": [
        "model.save_weights('model_weights3.h5')"
      ]
    },
    {
      "cell_type": "code",
      "execution_count": 142,
      "metadata": {
        "colab": {
          "base_uri": "https://localhost:8080/",
          "height": 53
        },
        "id": "-hyWoCdvbBba",
        "outputId": "5b71d622-106f-4b31-f73c-e4d6c1cf84aa"
      },
      "outputs": [
        {
          "output_type": "execute_result",
          "data": {
            "text/plain": [
              "'bert_history = model.fit(\\n    train_dataset,\\n    batch_size=256,\\n    epochs=5,  # İhtiyaca göre epoch sayısını ayarlayabilirsiniz\\n    validation_data=val_dataset,\\n    callbacks=datamin_callbacks  # Opsiyonel: Eğitim sırasında geri çağırmaları kullanabilirsiniz\\n)'"
            ],
            "application/vnd.google.colaboratory.intrinsic+json": {
              "type": "string"
            }
          },
          "metadata": {},
          "execution_count": 142
        }
      ],
      "source": [
        "'''bert_history = model.fit(\n",
        "    train_dataset,\n",
        "    batch_size=256,\n",
        "    epochs=5,  # İhtiyaca göre epoch sayısını ayarlayabilirsiniz\n",
        "    validation_data=val_dataset,\n",
        "    callbacks=datamin_callbacks  # Opsiyonel: Eğitim sırasında geri çağırmaları kullanabilirsiniz\n",
        ")'''"
      ]
    },
    {
      "cell_type": "code",
      "execution_count": null,
      "metadata": {
        "id": "K2rWKe2RdClg"
      },
      "outputs": [],
      "source": [
        "model.save_weights('model_weights4.h5')"
      ]
    },
    {
      "cell_type": "code",
      "execution_count": null,
      "metadata": {
        "colab": {
          "base_uri": "https://localhost:8080/",
          "height": 36
        },
        "id": "aiHTWiR2fPEa",
        "outputId": "5ec5c680-46da-46d2-a5ec-a6585dd5b87f"
      },
      "outputs": [
        {
          "output_type": "execute_result",
          "data": {
            "text/plain": [
              "\"model = TFBertForSequenceClassification.from_pretrained('dbmdz/bert-base-turkish-128k-cased', num_labels=4)\\n\\n# Load the model weights\\nmodel.load_weights('model_weights.h5')\""
            ],
            "application/vnd.google.colaboratory.intrinsic+json": {
              "type": "string"
            }
          },
          "metadata": {},
          "execution_count": 38
        }
      ],
      "source": [
        "'''model = TFBertForSequenceClassification.from_pretrained('dbmdz/bert-base-turkish-128k-cased', num_labels=4)\n",
        "\n",
        "# Load the model weights\n",
        "model.load_weights('model_weights.h5')'''"
      ]
    },
    {
      "cell_type": "code",
      "execution_count": null,
      "metadata": {
        "id": "2eRiMT3uj1Md"
      },
      "outputs": [],
      "source": [
        "'''from transformers import TFBertForSequenceClassification\n",
        "\n",
        "model = TFBertForSequenceClassification.from_pretrained('bert-base-uncased')'''\n"
      ]
    },
    {
      "cell_type": "code",
      "execution_count": null,
      "metadata": {
        "id": "knW8S05j8opE"
      },
      "outputs": [],
      "source": [
        "'''from transformers import TFBertForSequenceClassification\n",
        "\n",
        "model = TFBertForSequenceClassification.from_pretrained('dbmdz/bert-base-turkish-cased')'''\n",
        "\n"
      ]
    },
    {
      "cell_type": "code",
      "execution_count": null,
      "metadata": {
        "id": "yvbukkMlj1R7"
      },
      "outputs": [],
      "source": [
        "'''tokenizer = BertTokenizer.from_pretrained('dbmdz/distilbert-base-turkish-cased', do_lower_case=True)'''\n"
      ]
    },
    {
      "cell_type": "code",
      "execution_count": 136,
      "metadata": {
        "id": "1UiWSjQ6j1UT"
      },
      "outputs": [],
      "source": [
        "text = '''Geçtiğimiz günlerde Teknoparktaki enerji şirketi çalışanlarına çok iyi davranmalarıyla gündeme gelmişti. Çalışanlarından Burcu K. çalışanlarına iyi davrandıklarını ancak çok da abartılacak bir durum olmadığını açıkladı.'''"
      ]
    },
    {
      "cell_type": "code",
      "execution_count": 137,
      "metadata": {
        "id": "rmCOwRy0j1W8"
      },
      "outputs": [],
      "source": [
        "inputs = tokenizer((text),\n",
        "                   add_special_tokens=True,  # add [CLS], [SEP]\n",
        "                   max_length=512,  # max length of the text that can go to BERT\n",
        "                   pad_to_max_length=True,  # add [PAD] tokens\n",
        "                   return_attention_mask=True,  # add attention mask to not focus on pad tokens\n",
        "                   return_tensors=\"tf\",\n",
        "                   truncation=True\n",
        "                   )"
      ]
    },
    {
      "cell_type": "code",
      "execution_count": 138,
      "metadata": {
        "id": "MzisIl6Cj1Zj"
      },
      "outputs": [],
      "source": [
        "outputs = model(inputs, return_dict=True, labels=1)"
      ]
    },
    {
      "cell_type": "code",
      "execution_count": 139,
      "metadata": {
        "id": "CxgUMJsoj1c5"
      },
      "outputs": [],
      "source": [
        "logits = outputs.logits\n",
        "pred = tf.nn.softmax(logits)"
      ]
    },
    {
      "cell_type": "code",
      "execution_count": 140,
      "metadata": {
        "id": "ldi17-RS-jqr"
      },
      "outputs": [],
      "source": [
        "# Define your label dictionary\n",
        "label_dict = {\n",
        "    0: 'pozitif',\n",
        "    1: 'negatif',\n",
        "    2: 'nötr',\n",
        "    3: 'karışık'\n",
        "}"
      ]
    },
    {
      "cell_type": "code",
      "execution_count": 141,
      "metadata": {
        "colab": {
          "base_uri": "https://localhost:8080/"
        },
        "id": "IKlZ_FD-j1fh",
        "outputId": "8125daf9-2f29-415e-c052-3fed9b2eae75"
      },
      "outputs": [
        {
          "output_type": "stream",
          "name": "stdout",
          "text": [
            "nötr tf.Tensor(0.8507591, shape=(), dtype=float32)\n"
          ]
        }
      ],
      "source": [
        "max_idx = np.argmax(pred[0], 0)\n",
        "\n",
        "print(label_dict[max_idx], pred[0][max_idx])\n",
        "# spor tf.Tensor(0.9996449, shape=(), dtype=float32)"
      ]
    },
    {
      "cell_type": "markdown",
      "source": [],
      "metadata": {
        "id": "I7e6sdQ_QUbp"
      }
    },
    {
      "cell_type": "code",
      "source": [
        "print(test_data.dtypes)"
      ],
      "metadata": {
        "colab": {
          "base_uri": "https://localhost:8080/"
        },
        "id": "iXOVchggihzY",
        "outputId": "2bfc13b4-57b6-4dd0-b897-f820903ddc13"
      },
      "execution_count": null,
      "outputs": [
        {
          "output_type": "stream",
          "name": "stdout",
          "text": [
            "Label               object\n",
            "Dosya Adı           object\n",
            "Başlık              object\n",
            "İçerik              object\n",
            "label_id             int64\n",
            "Tokenized_İçerik    object\n",
            "dtype: object\n"
          ]
        }
      ]
    },
    {
      "cell_type": "code",
      "source": [
        "test_data"
      ],
      "metadata": {
        "colab": {
          "base_uri": "https://localhost:8080/",
          "height": 423
        },
        "id": "BHo-QDzMjV5q",
        "outputId": "bb6343b7-03b6-4044-8798-b904d466845c"
      },
      "execution_count": null,
      "outputs": [
        {
          "output_type": "execute_result",
          "data": {
            "text/plain": [
              "         Label Dosya Adı                                             Başlık  \\\n",
              "6368   pozitif   1468txt          Dünyanın yeni sağlık bilim merkezi olacak   \n",
              "3064      nötr   3757txt          Sayısal Loto çekiliş sonuçları (16022013)   \n",
              "9524   negatif   4308txt                        Ümraniyede TIR kazası 1 ölü   \n",
              "170       nötr   1151txt   Nüfus Cüzdanını kaybetti başına gelmeyen kalmadı   \n",
              "11230     nötr   5844txt                       Sessiz ve derinden son 16ya   \n",
              "...        ...       ...                                                ...   \n",
              "9595      nötr   4372txt                         İnkâr Yasası yerine Erivan   \n",
              "5615   karışık    790txt                         Mütalaa yok biber gazı var   \n",
              "4403   pozitif   4962txt                               Miriam Makeba kimdir   \n",
              "5726      nötr    890txt          İtibarları kaybolmadı ki geri isteyelim   \n",
              "8166      nötr   3086txt  Fazla hedonizm Kaliforniya aşırı vicdansızlık ...   \n",
              "\n",
              "                                                  İçerik  label_id  \\\n",
              "6368   bahçeşehir üniversitesi türk tıbbını dünyanın ...         0   \n",
              "3064   sayısal lotonun bu haftaki çekilişi yapıldı\\nm...         2   \n",
              "9524   ümrani̇ye tem otoyolunda güvenlik şeridinde p...         1   \n",
              "170    samsunda 4 yıl önce nüfus cüzdanını kaybeden f...         2   \n",
              "11230  fbahçe kadıköydeki seyircisiz maçta bateyi k...         2   \n",
              "...                                                  ...       ...   \n",
              "9595   fransa cumhurbaşkanı hollande ermeni diyaspora...         2   \n",
              "5615   eski genelkurmay başkanı emekli orgeneral i̇lk...         3   \n",
              "4403   google afrikalı şarkıcı ve sivil halklar eylem...         0   \n",
              "5726   tbmmnin asılarak idam edilen eski başbakan ad...         2   \n",
              "8166   çağımızın yeni psikiyatrik hastalıkları hakkın...         2   \n",
              "\n",
              "                                        Tokenized_İçerik  \n",
              "6368   [bahçeşehir, üniversitesi, türk, tıbbını, düny...  \n",
              "3064   [sayısal, loto, nun, bu, haftaki, çekilişi, ya...  \n",
              "9524   [ümrani, ye, tem, otoyolu, nda, güvenlik, şeri...  \n",
              "170    [samsun, 4, yıl, önce, nüfus, cüzdanını, kaybe...  \n",
              "11230  [f, bahçe, kadıköy, deki, seyircisiz, maçta, b...  \n",
              "...                                                  ...  \n",
              "9595   [fransa, cumhurbaşkanı, hollande, ermeni, diya...  \n",
              "5615   [eski, genelkurmay, başkanı, emekli, orgeneral...  \n",
              "4403   [google, afrikalı, şarkıcı, sivil, halklar, ey...  \n",
              "5726   [tbmm, asılarak, idam, edilen, eski, başbakan,...  \n",
              "8166   [çağımızın, yeni, psikiyatrik, hastalıkları, h...  \n",
              "\n",
              "[2868 rows x 6 columns]"
            ],
            "text/html": [
              "\n",
              "  <div id=\"df-e2e7b2d4-7f0a-4fba-954d-2891768f106c\" class=\"colab-df-container\">\n",
              "    <div>\n",
              "<style scoped>\n",
              "    .dataframe tbody tr th:only-of-type {\n",
              "        vertical-align: middle;\n",
              "    }\n",
              "\n",
              "    .dataframe tbody tr th {\n",
              "        vertical-align: top;\n",
              "    }\n",
              "\n",
              "    .dataframe thead th {\n",
              "        text-align: right;\n",
              "    }\n",
              "</style>\n",
              "<table border=\"1\" class=\"dataframe\">\n",
              "  <thead>\n",
              "    <tr style=\"text-align: right;\">\n",
              "      <th></th>\n",
              "      <th>Label</th>\n",
              "      <th>Dosya Adı</th>\n",
              "      <th>Başlık</th>\n",
              "      <th>İçerik</th>\n",
              "      <th>label_id</th>\n",
              "      <th>Tokenized_İçerik</th>\n",
              "    </tr>\n",
              "  </thead>\n",
              "  <tbody>\n",
              "    <tr>\n",
              "      <th>6368</th>\n",
              "      <td>pozitif</td>\n",
              "      <td>1468txt</td>\n",
              "      <td>Dünyanın yeni sağlık bilim merkezi olacak</td>\n",
              "      <td>bahçeşehir üniversitesi türk tıbbını dünyanın ...</td>\n",
              "      <td>0</td>\n",
              "      <td>[bahçeşehir, üniversitesi, türk, tıbbını, düny...</td>\n",
              "    </tr>\n",
              "    <tr>\n",
              "      <th>3064</th>\n",
              "      <td>nötr</td>\n",
              "      <td>3757txt</td>\n",
              "      <td>Sayısal Loto çekiliş sonuçları (16022013)</td>\n",
              "      <td>sayısal lotonun bu haftaki çekilişi yapıldı\\nm...</td>\n",
              "      <td>2</td>\n",
              "      <td>[sayısal, loto, nun, bu, haftaki, çekilişi, ya...</td>\n",
              "    </tr>\n",
              "    <tr>\n",
              "      <th>9524</th>\n",
              "      <td>negatif</td>\n",
              "      <td>4308txt</td>\n",
              "      <td>Ümraniyede TIR kazası 1 ölü</td>\n",
              "      <td>ümrani̇ye tem otoyolunda güvenlik şeridinde p...</td>\n",
              "      <td>1</td>\n",
              "      <td>[ümrani, ye, tem, otoyolu, nda, güvenlik, şeri...</td>\n",
              "    </tr>\n",
              "    <tr>\n",
              "      <th>170</th>\n",
              "      <td>nötr</td>\n",
              "      <td>1151txt</td>\n",
              "      <td>Nüfus Cüzdanını kaybetti başına gelmeyen kalmadı</td>\n",
              "      <td>samsunda 4 yıl önce nüfus cüzdanını kaybeden f...</td>\n",
              "      <td>2</td>\n",
              "      <td>[samsun, 4, yıl, önce, nüfus, cüzdanını, kaybe...</td>\n",
              "    </tr>\n",
              "    <tr>\n",
              "      <th>11230</th>\n",
              "      <td>nötr</td>\n",
              "      <td>5844txt</td>\n",
              "      <td>Sessiz ve derinden son 16ya</td>\n",
              "      <td>fbahçe kadıköydeki seyircisiz maçta bateyi k...</td>\n",
              "      <td>2</td>\n",
              "      <td>[f, bahçe, kadıköy, deki, seyircisiz, maçta, b...</td>\n",
              "    </tr>\n",
              "    <tr>\n",
              "      <th>...</th>\n",
              "      <td>...</td>\n",
              "      <td>...</td>\n",
              "      <td>...</td>\n",
              "      <td>...</td>\n",
              "      <td>...</td>\n",
              "      <td>...</td>\n",
              "    </tr>\n",
              "    <tr>\n",
              "      <th>9595</th>\n",
              "      <td>nötr</td>\n",
              "      <td>4372txt</td>\n",
              "      <td>İnkâr Yasası yerine Erivan</td>\n",
              "      <td>fransa cumhurbaşkanı hollande ermeni diyaspora...</td>\n",
              "      <td>2</td>\n",
              "      <td>[fransa, cumhurbaşkanı, hollande, ermeni, diya...</td>\n",
              "    </tr>\n",
              "    <tr>\n",
              "      <th>5615</th>\n",
              "      <td>karışık</td>\n",
              "      <td>790txt</td>\n",
              "      <td>Mütalaa yok biber gazı var</td>\n",
              "      <td>eski genelkurmay başkanı emekli orgeneral i̇lk...</td>\n",
              "      <td>3</td>\n",
              "      <td>[eski, genelkurmay, başkanı, emekli, orgeneral...</td>\n",
              "    </tr>\n",
              "    <tr>\n",
              "      <th>4403</th>\n",
              "      <td>pozitif</td>\n",
              "      <td>4962txt</td>\n",
              "      <td>Miriam Makeba kimdir</td>\n",
              "      <td>google afrikalı şarkıcı ve sivil halklar eylem...</td>\n",
              "      <td>0</td>\n",
              "      <td>[google, afrikalı, şarkıcı, sivil, halklar, ey...</td>\n",
              "    </tr>\n",
              "    <tr>\n",
              "      <th>5726</th>\n",
              "      <td>nötr</td>\n",
              "      <td>890txt</td>\n",
              "      <td>İtibarları kaybolmadı ki geri isteyelim</td>\n",
              "      <td>tbmmnin asılarak idam edilen eski başbakan ad...</td>\n",
              "      <td>2</td>\n",
              "      <td>[tbmm, asılarak, idam, edilen, eski, başbakan,...</td>\n",
              "    </tr>\n",
              "    <tr>\n",
              "      <th>8166</th>\n",
              "      <td>nötr</td>\n",
              "      <td>3086txt</td>\n",
              "      <td>Fazla hedonizm Kaliforniya aşırı vicdansızlık ...</td>\n",
              "      <td>çağımızın yeni psikiyatrik hastalıkları hakkın...</td>\n",
              "      <td>2</td>\n",
              "      <td>[çağımızın, yeni, psikiyatrik, hastalıkları, h...</td>\n",
              "    </tr>\n",
              "  </tbody>\n",
              "</table>\n",
              "<p>2868 rows × 6 columns</p>\n",
              "</div>\n",
              "    <div class=\"colab-df-buttons\">\n",
              "\n",
              "  <div class=\"colab-df-container\">\n",
              "    <button class=\"colab-df-convert\" onclick=\"convertToInteractive('df-e2e7b2d4-7f0a-4fba-954d-2891768f106c')\"\n",
              "            title=\"Convert this dataframe to an interactive table.\"\n",
              "            style=\"display:none;\">\n",
              "\n",
              "  <svg xmlns=\"http://www.w3.org/2000/svg\" height=\"24px\" viewBox=\"0 -960 960 960\">\n",
              "    <path d=\"M120-120v-720h720v720H120Zm60-500h600v-160H180v160Zm220 220h160v-160H400v160Zm0 220h160v-160H400v160ZM180-400h160v-160H180v160Zm440 0h160v-160H620v160ZM180-180h160v-160H180v160Zm440 0h160v-160H620v160Z\"/>\n",
              "  </svg>\n",
              "    </button>\n",
              "\n",
              "  <style>\n",
              "    .colab-df-container {\n",
              "      display:flex;\n",
              "      gap: 12px;\n",
              "    }\n",
              "\n",
              "    .colab-df-convert {\n",
              "      background-color: #E8F0FE;\n",
              "      border: none;\n",
              "      border-radius: 50%;\n",
              "      cursor: pointer;\n",
              "      display: none;\n",
              "      fill: #1967D2;\n",
              "      height: 32px;\n",
              "      padding: 0 0 0 0;\n",
              "      width: 32px;\n",
              "    }\n",
              "\n",
              "    .colab-df-convert:hover {\n",
              "      background-color: #E2EBFA;\n",
              "      box-shadow: 0px 1px 2px rgba(60, 64, 67, 0.3), 0px 1px 3px 1px rgba(60, 64, 67, 0.15);\n",
              "      fill: #174EA6;\n",
              "    }\n",
              "\n",
              "    .colab-df-buttons div {\n",
              "      margin-bottom: 4px;\n",
              "    }\n",
              "\n",
              "    [theme=dark] .colab-df-convert {\n",
              "      background-color: #3B4455;\n",
              "      fill: #D2E3FC;\n",
              "    }\n",
              "\n",
              "    [theme=dark] .colab-df-convert:hover {\n",
              "      background-color: #434B5C;\n",
              "      box-shadow: 0px 1px 3px 1px rgba(0, 0, 0, 0.15);\n",
              "      filter: drop-shadow(0px 1px 2px rgba(0, 0, 0, 0.3));\n",
              "      fill: #FFFFFF;\n",
              "    }\n",
              "  </style>\n",
              "\n",
              "    <script>\n",
              "      const buttonEl =\n",
              "        document.querySelector('#df-e2e7b2d4-7f0a-4fba-954d-2891768f106c button.colab-df-convert');\n",
              "      buttonEl.style.display =\n",
              "        google.colab.kernel.accessAllowed ? 'block' : 'none';\n",
              "\n",
              "      async function convertToInteractive(key) {\n",
              "        const element = document.querySelector('#df-e2e7b2d4-7f0a-4fba-954d-2891768f106c');\n",
              "        const dataTable =\n",
              "          await google.colab.kernel.invokeFunction('convertToInteractive',\n",
              "                                                    [key], {});\n",
              "        if (!dataTable) return;\n",
              "\n",
              "        const docLinkHtml = 'Like what you see? Visit the ' +\n",
              "          '<a target=\"_blank\" href=https://colab.research.google.com/notebooks/data_table.ipynb>data table notebook</a>'\n",
              "          + ' to learn more about interactive tables.';\n",
              "        element.innerHTML = '';\n",
              "        dataTable['output_type'] = 'display_data';\n",
              "        await google.colab.output.renderOutput(dataTable, element);\n",
              "        const docLink = document.createElement('div');\n",
              "        docLink.innerHTML = docLinkHtml;\n",
              "        element.appendChild(docLink);\n",
              "      }\n",
              "    </script>\n",
              "  </div>\n",
              "\n",
              "\n",
              "<div id=\"df-7478f24e-044d-4069-ad8c-67fb38b91547\">\n",
              "  <button class=\"colab-df-quickchart\" onclick=\"quickchart('df-7478f24e-044d-4069-ad8c-67fb38b91547')\"\n",
              "            title=\"Suggest charts\"\n",
              "            style=\"display:none;\">\n",
              "\n",
              "<svg xmlns=\"http://www.w3.org/2000/svg\" height=\"24px\"viewBox=\"0 0 24 24\"\n",
              "     width=\"24px\">\n",
              "    <g>\n",
              "        <path d=\"M19 3H5c-1.1 0-2 .9-2 2v14c0 1.1.9 2 2 2h14c1.1 0 2-.9 2-2V5c0-1.1-.9-2-2-2zM9 17H7v-7h2v7zm4 0h-2V7h2v10zm4 0h-2v-4h2v4z\"/>\n",
              "    </g>\n",
              "</svg>\n",
              "  </button>\n",
              "\n",
              "<style>\n",
              "  .colab-df-quickchart {\n",
              "      --bg-color: #E8F0FE;\n",
              "      --fill-color: #1967D2;\n",
              "      --hover-bg-color: #E2EBFA;\n",
              "      --hover-fill-color: #174EA6;\n",
              "      --disabled-fill-color: #AAA;\n",
              "      --disabled-bg-color: #DDD;\n",
              "  }\n",
              "\n",
              "  [theme=dark] .colab-df-quickchart {\n",
              "      --bg-color: #3B4455;\n",
              "      --fill-color: #D2E3FC;\n",
              "      --hover-bg-color: #434B5C;\n",
              "      --hover-fill-color: #FFFFFF;\n",
              "      --disabled-bg-color: #3B4455;\n",
              "      --disabled-fill-color: #666;\n",
              "  }\n",
              "\n",
              "  .colab-df-quickchart {\n",
              "    background-color: var(--bg-color);\n",
              "    border: none;\n",
              "    border-radius: 50%;\n",
              "    cursor: pointer;\n",
              "    display: none;\n",
              "    fill: var(--fill-color);\n",
              "    height: 32px;\n",
              "    padding: 0;\n",
              "    width: 32px;\n",
              "  }\n",
              "\n",
              "  .colab-df-quickchart:hover {\n",
              "    background-color: var(--hover-bg-color);\n",
              "    box-shadow: 0 1px 2px rgba(60, 64, 67, 0.3), 0 1px 3px 1px rgba(60, 64, 67, 0.15);\n",
              "    fill: var(--button-hover-fill-color);\n",
              "  }\n",
              "\n",
              "  .colab-df-quickchart-complete:disabled,\n",
              "  .colab-df-quickchart-complete:disabled:hover {\n",
              "    background-color: var(--disabled-bg-color);\n",
              "    fill: var(--disabled-fill-color);\n",
              "    box-shadow: none;\n",
              "  }\n",
              "\n",
              "  .colab-df-spinner {\n",
              "    border: 2px solid var(--fill-color);\n",
              "    border-color: transparent;\n",
              "    border-bottom-color: var(--fill-color);\n",
              "    animation:\n",
              "      spin 1s steps(1) infinite;\n",
              "  }\n",
              "\n",
              "  @keyframes spin {\n",
              "    0% {\n",
              "      border-color: transparent;\n",
              "      border-bottom-color: var(--fill-color);\n",
              "      border-left-color: var(--fill-color);\n",
              "    }\n",
              "    20% {\n",
              "      border-color: transparent;\n",
              "      border-left-color: var(--fill-color);\n",
              "      border-top-color: var(--fill-color);\n",
              "    }\n",
              "    30% {\n",
              "      border-color: transparent;\n",
              "      border-left-color: var(--fill-color);\n",
              "      border-top-color: var(--fill-color);\n",
              "      border-right-color: var(--fill-color);\n",
              "    }\n",
              "    40% {\n",
              "      border-color: transparent;\n",
              "      border-right-color: var(--fill-color);\n",
              "      border-top-color: var(--fill-color);\n",
              "    }\n",
              "    60% {\n",
              "      border-color: transparent;\n",
              "      border-right-color: var(--fill-color);\n",
              "    }\n",
              "    80% {\n",
              "      border-color: transparent;\n",
              "      border-right-color: var(--fill-color);\n",
              "      border-bottom-color: var(--fill-color);\n",
              "    }\n",
              "    90% {\n",
              "      border-color: transparent;\n",
              "      border-bottom-color: var(--fill-color);\n",
              "    }\n",
              "  }\n",
              "</style>\n",
              "\n",
              "  <script>\n",
              "    async function quickchart(key) {\n",
              "      const quickchartButtonEl =\n",
              "        document.querySelector('#' + key + ' button');\n",
              "      quickchartButtonEl.disabled = true;  // To prevent multiple clicks.\n",
              "      quickchartButtonEl.classList.add('colab-df-spinner');\n",
              "      try {\n",
              "        const charts = await google.colab.kernel.invokeFunction(\n",
              "            'suggestCharts', [key], {});\n",
              "      } catch (error) {\n",
              "        console.error('Error during call to suggestCharts:', error);\n",
              "      }\n",
              "      quickchartButtonEl.classList.remove('colab-df-spinner');\n",
              "      quickchartButtonEl.classList.add('colab-df-quickchart-complete');\n",
              "    }\n",
              "    (() => {\n",
              "      let quickchartButtonEl =\n",
              "        document.querySelector('#df-7478f24e-044d-4069-ad8c-67fb38b91547 button');\n",
              "      quickchartButtonEl.style.display =\n",
              "        google.colab.kernel.accessAllowed ? 'block' : 'none';\n",
              "    })();\n",
              "  </script>\n",
              "</div>\n",
              "\n",
              "  <div id=\"id_359565f4-00b7-4cdc-bb4c-96aa5c7e3fa3\">\n",
              "    <style>\n",
              "      .colab-df-generate {\n",
              "        background-color: #E8F0FE;\n",
              "        border: none;\n",
              "        border-radius: 50%;\n",
              "        cursor: pointer;\n",
              "        display: none;\n",
              "        fill: #1967D2;\n",
              "        height: 32px;\n",
              "        padding: 0 0 0 0;\n",
              "        width: 32px;\n",
              "      }\n",
              "\n",
              "      .colab-df-generate:hover {\n",
              "        background-color: #E2EBFA;\n",
              "        box-shadow: 0px 1px 2px rgba(60, 64, 67, 0.3), 0px 1px 3px 1px rgba(60, 64, 67, 0.15);\n",
              "        fill: #174EA6;\n",
              "      }\n",
              "\n",
              "      [theme=dark] .colab-df-generate {\n",
              "        background-color: #3B4455;\n",
              "        fill: #D2E3FC;\n",
              "      }\n",
              "\n",
              "      [theme=dark] .colab-df-generate:hover {\n",
              "        background-color: #434B5C;\n",
              "        box-shadow: 0px 1px 3px 1px rgba(0, 0, 0, 0.15);\n",
              "        filter: drop-shadow(0px 1px 2px rgba(0, 0, 0, 0.3));\n",
              "        fill: #FFFFFF;\n",
              "      }\n",
              "    </style>\n",
              "    <button class=\"colab-df-generate\" onclick=\"generateWithVariable('test_data')\"\n",
              "            title=\"Generate code using this dataframe.\"\n",
              "            style=\"display:none;\">\n",
              "\n",
              "  <svg xmlns=\"http://www.w3.org/2000/svg\" height=\"24px\"viewBox=\"0 0 24 24\"\n",
              "       width=\"24px\">\n",
              "    <path d=\"M7,19H8.4L18.45,9,17,7.55,7,17.6ZM5,21V16.75L18.45,3.32a2,2,0,0,1,2.83,0l1.4,1.43a1.91,1.91,0,0,1,.58,1.4,1.91,1.91,0,0,1-.58,1.4L9.25,21ZM18.45,9,17,7.55Zm-12,3A5.31,5.31,0,0,0,4.9,8.1,5.31,5.31,0,0,0,1,6.5,5.31,5.31,0,0,0,4.9,4.9,5.31,5.31,0,0,0,6.5,1,5.31,5.31,0,0,0,8.1,4.9,5.31,5.31,0,0,0,12,6.5,5.46,5.46,0,0,0,6.5,12Z\"/>\n",
              "  </svg>\n",
              "    </button>\n",
              "    <script>\n",
              "      (() => {\n",
              "      const buttonEl =\n",
              "        document.querySelector('#id_359565f4-00b7-4cdc-bb4c-96aa5c7e3fa3 button.colab-df-generate');\n",
              "      buttonEl.style.display =\n",
              "        google.colab.kernel.accessAllowed ? 'block' : 'none';\n",
              "\n",
              "      buttonEl.onclick = () => {\n",
              "        google.colab.notebook.generateWithVariable('test_data');\n",
              "      }\n",
              "      })();\n",
              "    </script>\n",
              "  </div>\n",
              "\n",
              "    </div>\n",
              "  </div>\n"
            ],
            "application/vnd.google.colaboratory.intrinsic+json": {
              "type": "dataframe",
              "variable_name": "test_data",
              "summary": "{\n  \"name\": \"test_data\",\n  \"rows\": 2868,\n  \"fields\": [\n    {\n      \"column\": \"Label\",\n      \"properties\": {\n        \"dtype\": \"category\",\n        \"num_unique_values\": 4,\n        \"samples\": [\n          \"n\\u00f6tr\",\n          \"kar\\u0131\\u015f\\u0131k\",\n          \"pozitif\"\n        ],\n        \"semantic_type\": \"\",\n        \"description\": \"\"\n      }\n    },\n    {\n      \"column\": \"Dosya Ad\\u0131\",\n      \"properties\": {\n        \"dtype\": \"string\",\n        \"num_unique_values\": 2504,\n        \"samples\": [\n          \"5639txt\",\n          \"4340txt\",\n          \"644txt\"\n        ],\n        \"semantic_type\": \"\",\n        \"description\": \"\"\n      }\n    },\n    {\n      \"column\": \"Ba\\u015fl\\u0131k\",\n      \"properties\": {\n        \"dtype\": \"string\",\n        \"num_unique_values\": 2846,\n        \"samples\": [\n          \"28 \\u015eubat\\u0131n 1 numaras\\u0131 hala d\\u0131\\u015farda\",\n          \"Atsan at\\u0131lmaz satsan sat\\u0131lmaz BALOTELLI\",\n          \"Ba\\u011f\\u0131ms\\u0131zl\\u0131k i\\u00e7in y\\u00fczbinler y\\u00fcr\\u00fcd\\u00fc\"\n        ],\n        \"semantic_type\": \"\",\n        \"description\": \"\"\n      }\n    },\n    {\n      \"column\": \"\\u0130\\u00e7erik\",\n      \"properties\": {\n        \"dtype\": \"string\",\n        \"num_unique_values\": 2856,\n        \"samples\": [\n          \"ba\\u015fbakan yard\\u0131mc\\u0131s\\u0131 ar\\u0131n\\u00e7 bug\\u00fcnlerde bir kanun gelecek e\\u011fer bir insan propaganda yapsa bile bu kitleleri silaha ve \\u015fiddete y\\u00f6neltmiyorsa su\\u00e7 olmaktan \\u00e7\\u0131kar\\u0131lacak dedi ar\\u0131n\\u00e7 almanyan\\u0131n ba\\u015fkenti berlinde konrad adenauer vakf\\u0131nda yapt\\u0131\\u011f\\u0131 konu\\u015fman\\u0131n ard\\u0131ndan kat\\u0131l\\u0131mc\\u0131lar\\u0131n sorular\\u0131n\\u0131 yan\\u0131tlad\\u0131\\n\\npropaganda unsurunu su\\u00e7unu ya da su\\u00e7unun unsurlar\\u0131n\\u0131 i\\u0307ngiltere almanya i\\u0307spanya veya abd gibi de\\u011fi\\u015ftireceklerini belirten ar\\u0131n\\u00e7 \\u015f\\u00f6yle dedi\\n\\nbug\\u00fcnlerde bir kanun gelecek pazartesi bakanlar kurulunda herhalde a\\u00e7\\u0131klamas\\u0131n\\u0131 yapaca\\u011f\\u0131z e\\u011fer bir insan propaganda yapsa bile bu kitleleri silaha ve \\u015fiddete y\\u00f6neltmiyorsa su\\u00e7 olmaktan \\u00e7\\u0131kar\\u0131lacak san\\u0131yorum ki gazeteci olarak o s\\u0131fatla i\\u00e7eride bulunanlar o maddeleri ihlal edenler bu maddeden istifade edecek \\n\\nar\\u0131n\\u00e7 t\\u00fcrkiyedeki ter\\u00f6rle m\\u00fccadele konusundan kaynaklanan nedenlerden dolay\\u0131 baz\\u0131 gazetecilerin hapiste oldu\\u011funu ifade ederek \\u015funlar\\u0131 kaydetti\\n\\ns\\u0131k\\u0131nt\\u0131m\\u0131z ter\\u00f6rle m\\u00fccadele kanunundan dolay\\u0131 yarg\\u0131lanan ya da h\\u00fck\\u00fcm giyen mesle\\u011fi gazeteci olanlar t\\u00fcrkiyede kanun d\\u0131\\u015f\\u0131 bir\\u00e7ok \\u00f6rg\\u00fct var her g\\u00fcn bombalama kad\\u0131nlara \\u00e7ocuklara askerlere kar\\u015f\\u0131 yap\\u0131lan eylemler var t\\u00fcrkiye \\u00e7ok zarar g\\u00f6rm\\u00fc\\u015f bir \\u00fclke olarak bu kanunu ayakta tutmak ve uygulamak zorunda\\n\\nter\\u00f6rle m\\u00fccadele kanunu olmas\\u0131n bu eylemler de su\\u00e7 say\\u0131lmas\\u0131n derseniz biz bu d\\u00fc\\u015f\\u00fcncede de\\u011filiz ne kadar faydas\\u0131 oluyor o ayr\\u0131 ama t\\u00fcrkiye ter\\u00f6r\\u00fcn ate\\u015finde yanan bir \\u00fclkeyse her g\\u00fcn canlar\\u0131n\\u0131 kaybediyorsa her \\u00fclkenin de ter\\u00f6rle m\\u00fccadele yasas\\u0131 varsa biz bunu uygulamak zorunday\\u0131z\\n\\ns\\u00fcre\\u00e7 devam edecek\\n\\nar\\u0131n\\u00e7 \\u00e7\\u00f6z\\u00fcm s\\u00fcrecine ili\\u015fkin yapt\\u0131\\u011f\\u0131 de\\u011ferlendirmede de ak parti olarak bir insan\\u0131n varl\\u0131\\u011f\\u0131n\\u0131 inkar etmenin insanl\\u0131k su\\u00e7u oldu\\u011funu s\\u00f6ylediklerini kaydetti\\n\\nar\\u0131n\\u00e7 ter\\u00f6r\\u00fcn silahl\\u0131 eylem olarak kar\\u015f\\u0131lar\\u0131na \\u00e7\\u0131kt\\u0131\\u011f\\u0131n\\u0131 dile getirerek \\u015funlar\\u0131 s\\u00f6yledi\\n\\ntemel ama\\u00e7 art\\u0131k \\u00f6rg\\u00fct\\u00fcn silah b\\u0131rakmas\\u0131d\\u0131r t\\u00fcrkiye i\\u00e7inde eylemlere son verilmeli ve t\\u00fcrkiye d\\u0131\\u015f\\u0131na \\u00e7\\u0131k\\u0131lmal\\u0131d\\u0131r bdpli milletvekillerinin i\\u0307mral\\u0131da \\u00f6calanla g\\u00f6r\\u00fc\\u015fme konusunda \\u015fu ara karma\\u015fa ya\\u015fan\\u0131yor g\\u00f6r\\u00fc\\u015fmeler gazetelere yans\\u0131d\\u0131 ama s\\u00fcre\\u00e7 devam edecek al\\u0131nan tedbirlerle s\\u00fckunet \\u00e7at\\u0131\\u015fmas\\u0131zl\\u0131k eylemsizlik d\\u00f6nemine kavu\\u015fursak bunu t\\u00fcrkiye i\\u00e7in \\u015fans ve imkan olarak g\\u00f6r\\u00fcyoruz\\n\\nba\\u015fbakan yard\\u0131mc\\u0131s\\u0131 ar\\u0131n\\u00e7 bir soru \\u00fczerine genel aff\\u0131n g\\u00fcndemlerinde olmad\\u0131\\u011f\\u0131n\\u0131 da vurgulad\\u0131\",\n          \"bursada uluda\\u011f \\u00fcniversitesi fen edebiyat fak\\u00fcltesi felsefe b\\u00f6l\\u00fcm\\u00fc \\u00f6\\u011frencisi 19 ya\\u015f\\u0131ndaki sema karakoca cinayeti ile ilgili aralar\\u0131nda bir s\\u00fcre tutuklu kald\\u0131ktan sonra serbest b\\u0131rak\\u0131lan 5 ki\\u015finin de oldu\\u011fu 101 ki\\u015fi hakk\\u0131nda takipsizlik karar\\u0131 verildi jandarma taraf\\u0131ndan y\\u00fcr\\u00fct\\u00fclen soru\\u015fturma polise devredildi\\nmerkez nil\\u00fcfer i\\u0307l\\u00e7esinde deri organize sanayinin bulundu\\u011fu bad\\u0131rga k\\u00f6y\\u00fc yak\\u0131nlar\\u0131nda 2011 y\\u0131l\\u0131n\\u0131n mart ay\\u0131nda k\\u00f6yl\\u00fcler taraf\\u0131ndan yar\\u0131s\\u0131 dere i\\u00e7inde par\\u00e7alanm\\u0131\\u015f \\u00e7\\u0131plak kad\\u0131n cesedi bulundu jandarma soru\\u015fturma ba\\u015flat\\u0131rken \\u00f6ld\\u00fcr\\u00fclen ki\\u015finin bir s\\u00fcredir kendisinden haber al\\u0131namayan sema karakoca oldu\\u011fu saptand\\u0131 sema karakocan\\u0131n cesedi ailesine teslim edilirken yap\\u0131lan soru\\u015fturma kapsam\\u0131nda tutuklanan 5 ki\\u015fi avukatlar\\u0131n\\u0131n yapt\\u0131\\u011f\\u0131 itiraz\\u0131n ard\\u0131ndan delil yetersizli\\u011finden 50 g\\u00fcn sonra serbest b\\u0131rak\\u0131ld\\u0131 \\n\\n\\u00fcniversiteli seman\\u0131n \\u00f6ld\\u00fcr\\u00fclmesi ile ilgili soru\\u015fturma kapsam\\u0131nda san\\u0131klar\\u0131n ev ve i\\u015fyerlerinde ele ge\\u00e7irilen kanl\\u0131 havlular ve al\\u0131nan numuneler jandarma genel komutanl\\u0131\\u011f\\u0131n\\u0131n ankaradaki laboratuarlar\\u0131nda incelendi toplanan kan\\u0131tlarla ilgili yap\\u0131lan testlerde \\u00f6ld\\u00fcr\\u00fclen sema karakocan\\u0131n dnas\\u0131na rastlanmad\\u0131 2 y\\u0131ld\\u0131r devam eden soru\\u015fturmada savc\\u0131l\\u0131k aralar\\u0131nda tutukland\\u0131ktan sonra serbest b\\u0131rak\\u0131lan 5 ki\\u015finin de bulundu\\u011fu soru\\u015fturmaya alan\\u0131n 101 ki\\u015fi hakk\\u0131nda takipsizlik karar\\u0131 verildi \\n\\nayr\\u0131ca jandarma ekipleri taraf\\u0131ndan iki y\\u0131ld\\u0131r y\\u00fcr\\u00fct\\u00fclen soru\\u015fturma dosyas\\u0131 polise teslim edildi polis ekipleri iki y\\u0131l \\u00f6nce i\\u015flenen cinayeti sil ba\\u015ftan ele alarak cinayeti ayd\\u0131nlatmaya \\u00e7al\\u0131\\u015facak\",\n          \"akp y\\u00f6netimi yerel se\\u00e7imi 27 ekime alma plan\\u0131ndan vazge\\u00e7erek 17 kas\\u0131m 2013 tarihi i\\u00e7in plan yapmaya ba\\u015flad\\u0131 b\\u00fcy\\u00fck\\u015fehir belediye kanunu tasar\\u0131s\\u0131n\\u0131 siyasi hesaplar\\u0131 nedeniyle birinci g\\u00fcndem maddesi yapan akp bu tasar\\u0131 \\u00fczerinden mhp ve chp ile pazarl\\u0131klara s\\u0131cak bakm\\u0131yor akp tasar\\u0131y\\u0131 \\u00e7ar\\u015famba g\\u00fcn\\u00fcne kadar tbmm i\\u0307\\u00e7i\\u015fleri komisyonundan ge\\u00e7irmeyi ama\\u00e7l\\u0131yor\\n 16 b\\u00fcy\\u00fck\\u015fehir il s\\u0131n\\u0131rlar\\u0131n\\u0131 m\\u00fclki il s\\u0131n\\u0131rlar\\u0131na kadar geni\\u015fleten 29 il \\u00f6zel idarelerini ve belde belediyelerini kald\\u0131ran ve b\\u00fcy\\u00fck\\u015fehir belediye ba\\u015fkanlar\\u0131na ve valilere s\\u00fcper yetkiler veren yasa tasar\\u0131s\\u0131na kitlenen akp bu tasar\\u0131n\\u0131n ancak yerel se\\u00e7imlerin 3 kas\\u0131m ya da 17 kas\\u0131ma al\\u0131nmas\\u0131 halinde tbmm genel kurulundan ge\\u00e7ece\\u011fini hesaplad\\u0131 mhpnin 3 kas\\u0131ma vize vermemesi nedeniyle de akpde ibre 17 kas\\u0131ma kayd\\u0131 ba\\u015fbakan erdo\\u011fan\\u0131n mhpnin 17 kas\\u0131ma da onay vermemesi halinde yerel se\\u00e7imlerin zaman\\u0131nda yani 29 mart 2014te yap\\u0131lmas\\u0131n\\u0131 istedi\\u011fi \\u00f6\\u011frenildi \\n ebru toktar \\u00e7eki\\u0307\\u00e7 / ankara\"\n        ],\n        \"semantic_type\": \"\",\n        \"description\": \"\"\n      }\n    },\n    {\n      \"column\": \"label_id\",\n      \"properties\": {\n        \"dtype\": \"number\",\n        \"std\": 1,\n        \"min\": 0,\n        \"max\": 3,\n        \"num_unique_values\": 4,\n        \"samples\": [\n          2,\n          3,\n          0\n        ],\n        \"semantic_type\": \"\",\n        \"description\": \"\"\n      }\n    },\n    {\n      \"column\": \"Tokenized_\\u0130\\u00e7erik\",\n      \"properties\": {\n        \"dtype\": \"object\",\n        \"semantic_type\": \"\",\n        \"description\": \"\"\n      }\n    }\n  ]\n}"
            }
          },
          "metadata": {},
          "execution_count": 47
        }
      ]
    },
    {
      "cell_type": "code",
      "source": [
        "# Assuming test_data is still a pandas DataFrame\n",
        "X_test = test_data.iloc[:, 3]  # Only the 'içerik' column (4th column)\n",
        "y_test = test_data.iloc[:, 4]  # The labels column (5th column)"
      ],
      "metadata": {
        "id": "ash1T0IRk3TJ"
      },
      "execution_count": null,
      "outputs": []
    },
    {
      "cell_type": "code",
      "source": [
        "'''X_test = X_test.values\n",
        "y_test = y_test.values'''"
      ],
      "metadata": {
        "colab": {
          "base_uri": "https://localhost:8080/",
          "height": 36
        },
        "id": "mI32bsacmbpF",
        "outputId": "a41a37ee-17c8-4637-98ba-eae11d084e9a"
      },
      "execution_count": 143,
      "outputs": [
        {
          "output_type": "execute_result",
          "data": {
            "text/plain": [
              "'X_test = X_test.values\\ny_test = y_test.values'"
            ],
            "application/vnd.google.colaboratory.intrinsic+json": {
              "type": "string"
            }
          },
          "metadata": {},
          "execution_count": 143
        }
      ]
    },
    {
      "cell_type": "code",
      "source": [
        "from transformers import BertTokenizer\n",
        "\n",
        "# Load the BERT tokenizer\n",
        "tokenizer = BertTokenizer.from_pretrained('bert-base-uncased')\n",
        "\n",
        "# Tokenize the 'içerik' column\n",
        "X_test_tokenized = tokenizer(\n",
        "    list(X_test),  # Convert to list if it's a pandas Series\n",
        "    padding=True,\n",
        "    truncation=True,\n",
        "    return_tensors='tf'\n",
        ")"
      ],
      "metadata": {
        "id": "2-6FFv1VkII2"
      },
      "execution_count": null,
      "outputs": []
    },
    {
      "cell_type": "code",
      "source": [
        "# Convert labels to tensors\n",
        "y_test_tensor = tf.convert_to_tensor(y_test, dtype=tf.int32)"
      ],
      "metadata": {
        "id": "e2OBDM5ktSSI"
      },
      "execution_count": null,
      "outputs": []
    },
    {
      "cell_type": "code",
      "source": [
        "# Assuming 'X_test_tokenized' has been created as shown before\n",
        "test_dataset = tf.data.Dataset.from_tensor_slices((\n",
        "    dict(\n",
        "        input_ids=X_test_tokenized['input_ids'],\n",
        "        attention_mask=X_test_tokenized['attention_mask'],\n",
        "        token_type_ids=X_test_tokenized.get('token_type_ids')  # Optional, depends on tokenizer\n",
        "    ),\n",
        "    y_test_tensor\n",
        ")).batch(16)"
      ],
      "metadata": {
        "id": "WSh8ZhjXtWg_"
      },
      "execution_count": null,
      "outputs": []
    },
    {
      "cell_type": "code",
      "execution_count": null,
      "metadata": {
        "id": "i69GS4w-faI4",
        "colab": {
          "base_uri": "https://localhost:8080/"
        },
        "outputId": "2e946646-aef4-4d3c-96b5-81de865066ba"
      },
      "outputs": [
        {
          "output_type": "stream",
          "name": "stdout",
          "text": [
            "180/180 [==============================] - 59s 306ms/step - loss: 3.4209 - accuracy: 0.2186\n",
            "Test Loss: 3.4209\n",
            "Test Accuracy: 0.2186\n"
          ]
        }
      ],
      "source": [
        "# Evaluate the model\n",
        "test_loss, test_accuracy = model.evaluate(test_dataset)\n",
        "print(f'Test Loss: {test_loss:.4f}')\n",
        "print(f'Test Accuracy: {test_accuracy:.4f}')"
      ]
    },
    {
      "cell_type": "code",
      "source": [
        "# Get the raw predictions (logits)\n",
        "predictions = model.predict(test_dataset)"
      ],
      "metadata": {
        "id": "OweHlV19uoCn"
      },
      "execution_count": null,
      "outputs": []
    },
    {
      "cell_type": "code",
      "source": [
        "# Convert logits to class labels (assuming the last dimension contains the logits for each class)\n",
        "predicted_classes = tf.argmax(predictions.logits, axis=-1).numpy()"
      ],
      "metadata": {
        "id": "IpKY-pefu6jN"
      },
      "execution_count": null,
      "outputs": []
    },
    {
      "cell_type": "code",
      "source": [
        "# Display or use the predicted classes\n",
        "print(predicted_classes)"
      ],
      "metadata": {
        "id": "1S3RPRW_u9ZD"
      },
      "execution_count": null,
      "outputs": []
    },
    {
      "cell_type": "code",
      "source": [
        "from tensorflow.keras.optimizers import Adam\n",
        "\n",
        "def model_builder(hp):\n",
        "    # Hyperparameter ranges\n",
        "    hp_learning_rate = hp.Choice('learning_rate', values=[1e-5, 3e-5, 5e-5])\n",
        "\n",
        "    # Model definition\n",
        "    model = TFBertForSequenceClassification.from_pretrained('bert-base-uncased', num_labels=2)\n",
        "\n",
        "    # Compile the model with the learning rate as a hyperparameter\n",
        "    model.compile(\n",
        "        optimizer=Adam(learning_rate=hp_learning_rate),\n",
        "        loss=model.compute_loss,\n",
        "        metrics=['accuracy']\n",
        "    )\n",
        "\n",
        "    return model"
      ],
      "metadata": {
        "id": "N_iMV45xnBT1"
      },
      "execution_count": null,
      "outputs": []
    },
    {
      "cell_type": "code",
      "source": [
        "model.compile(\n",
        "    optimizer='adam',  # or 'Adam' as a string identifier\n",
        "    loss=model.compute_loss,\n",
        "    metrics=['accuracy']\n",
        ")\n"
      ],
      "metadata": {
        "id": "TLifZ_LawxS0"
      },
      "execution_count": null,
      "outputs": []
    },
    {
      "cell_type": "code",
      "source": [
        "from tensorflow.keras.optimizers import Adam\n",
        "\n",
        "# Define your model\n",
        "model = tf.keras.models.Sequential([\n",
        "    # Add your layers here\n",
        "])\n",
        "\n",
        "# Compile the model with Adam optimizer\n",
        "model.compile(\n",
        "    optimizer=Adam(learning_rate=1e-5),  # Example learning rate\n",
        "    loss=model.compute_loss,\n",
        "    metrics=['accuracy']\n",
        ")\n"
      ],
      "metadata": {
        "id": "0eHOhf54ycty"
      },
      "execution_count": null,
      "outputs": []
    },
    {
      "cell_type": "code",
      "source": [
        "import keras_tuner as kt\n",
        "from tensorflow.keras.optimizers import Adam\n",
        "\n",
        "def build_model(hp):\n",
        "    model = tf.keras.models.Sequential([\n",
        "        # Add your layers here\n",
        "    ])\n",
        "\n",
        "    # Define optimizer using Keras Tuner's hyperparameters\n",
        "    model.compile(\n",
        "        optimizer=Adam(learning_rate=hp.Float('learning_rate', min_value=1e-5, max_value=1e-2, sampling='LOG')),\n",
        "        loss=model.compute_loss,\n",
        "        metrics=['accuracy']\n",
        "    )\n",
        "    return model\n",
        "\n",
        "tuner = kt.RandomSearch(\n",
        "    build_model,\n",
        "    objective='val_accuracy',\n",
        "    max_trials=10,\n",
        "    executions_per_trial=1\n",
        ")\n",
        "\n",
        "tuner.search(train_data, epochs=3,  validation_data=validation_data)\n",
        "best_model = tuner.get_best_models(num_models=1)[0]"
      ],
      "metadata": {
        "id": "ohZ_t-K0yspv"
      },
      "execution_count": null,
      "outputs": []
    },
    {
      "cell_type": "code",
      "source": [
        "from keras_tuner import RandomSearch\n",
        "\n",
        "tuner = RandomSearch(model_builder, objective='val_accuracy', max_trials=10, executions_per_trial=1)\n",
        "tuner.search(train_dataset, epochs=3, validation_data=val_dataset)\n",
        "best_model = tuner.get_best_models(num_models=1)[0]"
      ],
      "metadata": {
        "id": "9QguZ0XrxydJ"
      },
      "execution_count": null,
      "outputs": []
    },
    {
      "cell_type": "code",
      "source": [
        "best_model.fit(train_dataset, epochs=3)\n",
        "test_loss, test_accuracy = best_model.evaluate(val_dataset)\n",
        "print(f'Test Loss: {test_loss:.4f}')\n",
        "print(f'Test Accuracy: {test_accuracy:.4f}')\n"
      ],
      "metadata": {
        "id": "tjaUrkG4wbfU"
      },
      "execution_count": null,
      "outputs": []
    },
    {
      "cell_type": "code",
      "source": [
        "import numpy as np\n",
        "import tensorflow as tf\n",
        "from transformers import BertTokenizer, TFBertForSequenceClassification\n",
        "from sklearn.metrics import classification_report, confusion_matrix\n"
      ],
      "metadata": {
        "id": "2qGOJ8Otxg51"
      },
      "execution_count": null,
      "outputs": []
    },
    {
      "cell_type": "code",
      "source": [
        "tokenizer = BertTokenizer.from_pretrained('dbmdz/bert-base-turkish-128k-cased')\n",
        "model = TFBertForSequenceClassification.from_pretrained('dbmdz/bert-base-turkish-128k-cased', num_labels=4)\n",
        "model.load_weights('model_weights3.h5')\n"
      ],
      "metadata": {
        "colab": {
          "base_uri": "https://localhost:8080/"
        },
        "id": "E6ZJM1Jy62bC",
        "outputId": "ae2298f9-26cc-4683-d82e-ef2d39d6b3da"
      },
      "execution_count": null,
      "outputs": [
        {
          "output_type": "stream",
          "name": "stderr",
          "text": [
            "All model checkpoint layers were used when initializing TFBertForSequenceClassification.\n",
            "\n",
            "Some layers of TFBertForSequenceClassification were not initialized from the model checkpoint at dbmdz/bert-base-turkish-128k-cased and are newly initialized: ['classifier']\n",
            "You should probably TRAIN this model on a down-stream task to be able to use it for predictions and inference.\n"
          ]
        }
      ]
    },
    {
      "cell_type": "code",
      "source": [
        "val_dataset"
      ],
      "metadata": {
        "colab": {
          "base_uri": "https://localhost:8080/"
        },
        "id": "Sof2FOad7FHb",
        "outputId": "f48fe988-7b4b-417e-dbbb-9f5ac81b1d51"
      },
      "execution_count": null,
      "outputs": [
        {
          "output_type": "execute_result",
          "data": {
            "text/plain": [
              "<_BatchDataset element_spec=({'input_ids': TensorSpec(shape=(None, 128), dtype=tf.int32, name=None), 'token_type_ids': TensorSpec(shape=(None, 128), dtype=tf.int32, name=None), 'attention_mask': TensorSpec(shape=(None, 128), dtype=tf.int32, name=None)}, TensorSpec(shape=(None,), dtype=tf.int32, name=None))>"
            ]
          },
          "metadata": {},
          "execution_count": 59
        }
      ]
    },
    {
      "cell_type": "code",
      "source": [
        "# Model tahminleri al\n",
        "predictions = model.predict(val_dataset)\n",
        "logits = predictions.logits\n",
        "predicted_labels = np.argmax(logits, axis=-1)\n"
      ],
      "metadata": {
        "colab": {
          "base_uri": "https://localhost:8080/"
        },
        "id": "HsQBgRrr63v5",
        "outputId": "65fd01d2-4791-4961-cbb8-1d12831ed442"
      },
      "execution_count": null,
      "outputs": [
        {
          "output_type": "stream",
          "name": "stdout",
          "text": [
            "359/359 [==============================] - 13s 27ms/step\n"
          ]
        }
      ]
    },
    {
      "cell_type": "code",
      "source": [
        "true_labels = []\n",
        "for _, labels in val_dataset:\n",
        "    true_labels.extend(labels.numpy())\n",
        "\n",
        "true_labels = np.array(true_labels)\n"
      ],
      "metadata": {
        "id": "pZ_Mz5fi71sj"
      },
      "execution_count": null,
      "outputs": []
    },
    {
      "cell_type": "code",
      "source": [
        "# Confusion matrix ve classification report hesapla\n",
        "cm = confusion_matrix(true_labels, predicted_labels)\n",
        "report = classification_report(true_labels, predicted_labels)\n",
        "\n",
        "print(\"Confusion Matrix:\\n\", cm)\n",
        "print(\"Classification Report:\\n\", report)\n",
        "\n"
      ],
      "metadata": {
        "colab": {
          "base_uri": "https://localhost:8080/"
        },
        "id": "t25_9EKV66QO",
        "outputId": "6757560f-78c3-4034-c0a2-41af712bd672"
      },
      "execution_count": null,
      "outputs": [
        {
          "output_type": "stream",
          "name": "stdout",
          "text": [
            "Confusion Matrix:\n",
            " [[191 254 178 156]\n",
            " [253 263 227 199]\n",
            " [198 205 174 134]\n",
            " [130 112 114  80]]\n",
            "Classification Report:\n",
            "               precision    recall  f1-score   support\n",
            "\n",
            "           0       0.25      0.25      0.25       779\n",
            "           1       0.32      0.28      0.30       942\n",
            "           2       0.25      0.24      0.25       711\n",
            "           3       0.14      0.18      0.16       436\n",
            "\n",
            "    accuracy                           0.25      2868\n",
            "   macro avg       0.24      0.24      0.24      2868\n",
            "weighted avg       0.25      0.25      0.25      2868\n",
            "\n"
          ]
        }
      ]
    }
  ],
  "metadata": {
    "accelerator": "GPU",
    "colab": {
      "gpuType": "L4",
      "machine_shape": "hm",
      "provenance": []
    },
    "kernelspec": {
      "display_name": "Python 3",
      "name": "python3"
    },
    "language_info": {
      "name": "python"
    }
  },
  "nbformat": 4,
  "nbformat_minor": 0
}